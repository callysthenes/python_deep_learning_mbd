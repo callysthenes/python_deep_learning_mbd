{
  "cells": [
    {
      "cell_type": "code",
      "execution_count": null,
      "metadata": {},
      "outputs": [],
      "source": []
    },
    {
      "cell_type": "markdown",
      "metadata": {},
      "source": []
    },
    {
      "cell_type": "code",
      "execution_count": 1,
      "metadata": {
        "id": "eEqf_oBfTAT_"
      },
      "outputs": [
        {
          "ename": "ModuleNotFoundError",
          "evalue": "No module named 'matplotlib'",
          "output_type": "error",
          "traceback": [
            "\u001b[1;31m---------------------------------------------------------------------------\u001b[0m",
            "\u001b[1;31mModuleNotFoundError\u001b[0m                       Traceback (most recent call last)",
            "Cell \u001b[1;32mIn[1], line 1\u001b[0m\n\u001b[1;32m----> 1\u001b[0m \u001b[39mimport\u001b[39;00m \u001b[39mmatplotlib\u001b[39;00m\u001b[39m.\u001b[39;00m\u001b[39mpyplot\u001b[39;00m \u001b[39mas\u001b[39;00m \u001b[39mplt\u001b[39;00m\n\u001b[0;32m      2\u001b[0m \u001b[39mimport\u001b[39;00m \u001b[39mnumpy\u001b[39;00m \u001b[39mas\u001b[39;00m \u001b[39mnp\u001b[39;00m\n\u001b[0;32m      3\u001b[0m \u001b[39mimport\u001b[39;00m \u001b[39mpandas\u001b[39;00m \u001b[39mas\u001b[39;00m \u001b[39mpd\u001b[39;00m\n",
            "\u001b[1;31mModuleNotFoundError\u001b[0m: No module named 'matplotlib'"
          ]
        }
      ],
      "source": [
        "import matplotlib.pyplot as plt\n",
        "import numpy as np\n",
        "import pandas as pd\n",
        "import tensorflow as tf\n",
        "from sklearn import datasets\n",
        "from tensorflow import keras\n",
        "from tensorflow.keras import layers\n",
        "from tensorflow.python.framework import ops\n",
        "from mlxtend.plotting import plot_decision_regions\n",
        "ops.reset_default_graph()"
      ]
    },
    {
      "attachments": {},
      "cell_type": "markdown",
      "metadata": {
        "id": "yogUlyuMFHSS"
      },
      "source": [
        "# LOGISTIC REGRESSION \n",
        "\n",
        "In this notebook we will apply logistic regression to a linearly separable dataset of two classes.\n",
        "\n",
        "The notebook will help us to better understand logistic regression and why it can be perceived as a baby neural net.\n",
        "\n",
        "The most important part of this notebook is to identify the ingredientes of logistic regression as well as to understand the mechanism logistic regression is using to classify the points."
      ]
    },
    {
      "cell_type": "markdown",
      "metadata": {
        "id": "W4Vflqiz3QBK"
      },
      "source": []
    },
    {
      "cell_type": "markdown",
      "metadata": {
        "id": "EgTMbeA1TV8b"
      },
      "source": [
        "## 1. Artificially create a linearly separable dataset with two classes."
      ]
    },
    {
      "cell_type": "code",
      "execution_count": null,
      "metadata": {
        "colab": {
          "base_uri": "https://localhost:8080/",
          "height": 352
        },
        "id": "fRbpiXEbVFEi",
        "outputId": "8b913381-0ee1-4e22-e344-590ff91c790d"
      },
      "outputs": [],
      "source": [
        "# We randomly generate datapoints from two different gaussians.\n",
        "X, y = datasets.make_blobs(n_samples=100, centers=2, n_features=2, center_box=(0, 50))\n",
        "plt.scatter(X[:, 0], X[:, 1], c=y, s=30, cmap=plt.cm.Paired)\n",
        "y\n"
      ]
    },
    {
      "cell_type": "markdown",
      "metadata": {
        "id": "Lc7DF3BSWO6K"
      },
      "source": [
        "## 2. Create the Logistic Regression Model Structure.\n",
        "\n",
        "We will use keras to create our Logistic Regresson Model. Specifically we will use the class Sequential, where we can create a model layer by layer -- this would be specially interesting where working with neural nets.\n",
        "\n",
        "There are different types of layers. We will use two in particular, the layer Input (just for holding our input vectors) and the Layer \"Dense\". A \"Dense layer\" indicates that the units of the layer are fully connected with the input layer units https://keras.io/api/layers/core_layers/dense/\n",
        "\n",
        "For further information please have a look into the keras documentation\n",
        "\n",
        "https://keras.io/api/layers/"
      ]
    },
    {
      "cell_type": "code",
      "execution_count": null,
      "metadata": {
        "id": "f5qgmfNmBD7l"
      },
      "outputs": [],
      "source": [
        "my_first_neural_net = tf.keras.Sequential([\n",
        "    layers.Input(shape=(2, ), name=\"input\"),                                         \n",
        "    layers.Dense(units=5, activation=\"relu\", name=\"hidden\"),\n",
        "    layers.Dense(units=2, activation=\"softmax\", name=\"output\")\n",
        "])"
      ]
    },
    {
      "cell_type": "code",
      "execution_count": null,
      "metadata": {
        "colab": {
          "base_uri": "https://localhost:8080/"
        },
        "id": "4OyK9-X5nqRe",
        "outputId": "9345f430-fa47-4531-c10b-d7b2f75a01d4"
      },
      "outputs": [],
      "source": [
        "# we can use the summary function to inspect the layers of our model \n",
        "my_first_neural_net.summary()"
      ]
    },
    {
      "cell_type": "code",
      "execution_count": null,
      "metadata": {
        "colab": {
          "base_uri": "https://localhost:8080/",
          "height": 312
        },
        "id": "_rpOYCmBoOyH",
        "outputId": "b065c758-61ea-4311-9090-c5f3df0bae0b"
      },
      "outputs": [],
      "source": [
        "tf.keras.utils.plot_model(my_first_neural_net, show_layer_names=True, show_shapes=True)"
      ]
    },
    {
      "cell_type": "markdown",
      "metadata": {
        "id": "BiPRyHyRKnfi"
      },
      "source": [
        "## 3. Compiling the model\n",
        "\n",
        "Now that we have an structure we need to complete the model. So far, we have how the inputs and outputs will be and how they relate (through the mapping function/structure that we create).\n",
        "\n",
        "Now we need the cost function to measure how well or bad we are doing the things and the learning procedure. We do this through the 'compile' function.\n",
        "\n",
        "Also we include the kind of metric we want to assess. In this case \"accuracy\"\n"
      ]
    },
    {
      "cell_type": "code",
      "execution_count": null,
      "metadata": {
        "id": "PQq5EZHJBmkW"
      },
      "outputs": [],
      "source": [
        "my_first_neural_net.compile(optimizer=tf.keras.optimizers.SGD(learning_rate=0.01), \n",
        "                                  loss= tf.keras.losses.sparse_categorical_crossentropy, \n",
        "                                  metrics=['accuracy'])"
      ]
    },
    {
      "cell_type": "markdown",
      "metadata": {
        "id": "LN1JDfVGL-CZ"
      },
      "source": [
        "## 4. Training the model\n",
        "\n",
        "The infamous fit! This basically will run our learning procedure (which it is iterative) over our training dataset, and evaluate over the validation one. "
      ]
    },
    {
      "cell_type": "code",
      "execution_count": null,
      "metadata": {
        "colab": {
          "base_uri": "https://localhost:8080/"
        },
        "id": "EeAZb8jjbRK8",
        "outputId": "d0cf62d0-03ca-4450-bb61-294ba0b783dc"
      },
      "outputs": [],
      "source": [
        "history = my_first_neural_net.fit(X, y, epochs=200, verbose=2)"
      ]
    },
    {
      "cell_type": "markdown",
      "metadata": {
        "id": "--tdbmPdRHIu"
      },
      "source": [
        "## 6. Plot Decision Boundary"
      ]
    },
    {
      "cell_type": "code",
      "execution_count": null,
      "metadata": {
        "colab": {
          "base_uri": "https://localhost:8080/"
        },
        "id": "uaBAfIC5lJXe",
        "outputId": "fbf6220a-0ea4-42fa-d78e-aa59720c3f9c"
      },
      "outputs": [],
      "source": [
        "test_results = my_first_neural_net.evaluate(X, y, verbose=1)\n",
        "print(f'Test results - Loss: {test_results[0]} - Accuracy: {test_results[1]*100}%')"
      ]
    },
    {
      "cell_type": "code",
      "execution_count": null,
      "metadata": {
        "id": "n7aqtEUzmUC6"
      },
      "outputs": [],
      "source": [
        "class Onehot2Int(object):\n",
        "\n",
        "    def __init__(self, model):\n",
        "        self.model = model\n",
        "\n",
        "    def predict(self, X):\n",
        "        y_pred = self.model.predict(X)\n",
        "        return np.argmax(y_pred, axis=1)"
      ]
    },
    {
      "cell_type": "code",
      "execution_count": null,
      "metadata": {
        "id": "9mg4rJmAmWD8"
      },
      "outputs": [],
      "source": [
        "my_first_neural_net_no_one = Onehot2Int(my_first_neural_net)"
      ]
    },
    {
      "cell_type": "code",
      "execution_count": null,
      "metadata": {
        "colab": {
          "base_uri": "https://localhost:8080/",
          "height": 285
        },
        "id": "Wh2UQXwBjXPS",
        "outputId": "c2d3f906-6e4e-4f16-8e4c-fe0fd245a6d5"
      },
      "outputs": [],
      "source": [
        "plot_decision_regions(X, y, clf=my_first_neural_net_no_one)\n",
        "plt.show()"
      ]
    }
  ],
  "metadata": {
    "accelerator": "GPU",
    "colab": {
      "provenance": [],
      "toc_visible": true
    },
    "gpuClass": "standard",
    "kernelspec": {
      "display_name": "Python 3",
      "language": "python",
      "name": "python3"
    },
    "language_info": {
      "codemirror_mode": {
        "name": "ipython",
        "version": 3
      },
      "file_extension": ".py",
      "mimetype": "text/x-python",
      "name": "python",
      "nbconvert_exporter": "python",
      "pygments_lexer": "ipython3",
      "version": "3.10.9"
    },
    "vscode": {
      "interpreter": {
        "hash": "326e4f63ad54c217260fc7be1c53acea6ef3ea6cd7ac93b3b02195c6d8fa7cb8"
      }
    }
  },
  "nbformat": 4,
  "nbformat_minor": 0
}
