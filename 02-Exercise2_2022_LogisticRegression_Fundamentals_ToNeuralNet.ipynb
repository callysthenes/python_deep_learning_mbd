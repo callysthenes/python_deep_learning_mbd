{
  "nbformat": 4,
  "nbformat_minor": 0,
  "metadata": {
    "colab": {
      "provenance": [],
      "toc_visible": true
    },
    "kernelspec": {
      "name": "python3",
      "display_name": "Python 3"
    },
    "accelerator": "GPU",
    "gpuClass": "standard"
  },
  "cells": [
    {
      "cell_type": "code",
      "metadata": {
        "id": "eEqf_oBfTAT_"
      },
      "source": [
        "import matplotlib.pyplot as plt\n",
        "import numpy as np\n",
        "import pandas as pd\n",
        "import tensorflow as tf\n",
        "from sklearn import datasets\n",
        "from tensorflow import keras\n",
        "from tensorflow.keras import layers\n",
        "from tensorflow.python.framework import ops\n",
        "from mlxtend.plotting import plot_decision_regions\n",
        "ops.reset_default_graph()"
      ],
      "execution_count": null,
      "outputs": []
    },
    {
      "cell_type": "markdown",
      "metadata": {
        "id": "yogUlyuMFHSS"
      },
      "source": [
        "# LOGISTIC REGRESSION\n",
        "\n",
        "In this notebook we will apply logistic regression to a linearly separable dataset of two classes.\n",
        "\n",
        "The notebook will help us to better understand logistic regression and why it can be perceived as a baby neural net.\n",
        "\n",
        "The most important part of this notebook is to identify the ingredientes of logistic regression as well as to understand the mechanism logistic regression is using to classify the points."
      ]
    },
    {
      "cell_type": "markdown",
      "source": [],
      "metadata": {
        "id": "W4Vflqiz3QBK"
      }
    },
    {
      "cell_type": "markdown",
      "metadata": {
        "id": "EgTMbeA1TV8b"
      },
      "source": [
        "## 1. Artificially create a linearly separable dataset with two classes."
      ]
    },
    {
      "cell_type": "code",
      "metadata": {
        "id": "fRbpiXEbVFEi",
        "colab": {
          "base_uri": "https://localhost:8080/",
          "height": 352
        },
        "outputId": "8b913381-0ee1-4e22-e344-590ff91c790d"
      },
      "source": [
        "# We randomly generate datapoints from two different gaussians.\n",
        "X, y = datasets.make_blobs(n_samples=100, centers=2, n_features=2, center_box=(0, 50))\n",
        "plt.scatter(X[:, 0], X[:, 1], c=y, s=30, cmap=plt.cm.Paired)\n",
        "y\n"
      ],
      "execution_count": null,
      "outputs": [
        {
          "output_type": "execute_result",
          "data": {
            "text/plain": [
              "array([1, 1, 0, 1, 1, 1, 1, 0, 0, 0, 0, 0, 0, 0, 1, 1, 1, 1, 0, 1, 0, 1,\n",
              "       0, 1, 1, 0, 1, 0, 0, 0, 0, 1, 0, 1, 1, 0, 0, 0, 1, 1, 0, 1, 0, 0,\n",
              "       0, 0, 0, 0, 0, 0, 1, 1, 1, 0, 1, 0, 1, 0, 1, 0, 1, 0, 0, 1, 1, 1,\n",
              "       1, 0, 1, 1, 0, 0, 1, 0, 0, 1, 1, 0, 1, 0, 0, 1, 0, 1, 1, 0, 1, 1,\n",
              "       1, 0, 1, 0, 0, 1, 1, 1, 1, 0, 0, 1])"
            ]
          },
          "metadata": {},
          "execution_count": 2
        },
        {
          "output_type": "display_data",
          "data": {
            "text/plain": [
              "<Figure size 432x288 with 1 Axes>"
            ],
            "image/png": "[encoded data removed]"
          },
          "metadata": {
            "needs_background": "light"
          }
        }
      ]
    },
    {
      "cell_type": "markdown",
      "metadata": {
        "id": "Lc7DF3BSWO6K"
      },
      "source": [
        "## 2. Create the Logistic Regression Model Structure.\n",
        "\n",
        "We will use keras to create our Logistic Regresson Model. Specifically we will use the class Sequential, where we can create a model layer by layer -- this would be specially interesting where working with neural nets.\n",
        "\n",
        "There are different types of layers. We will use two in particular, the layer Input (just for holding our input vectors) and the Layer \"Dense\". A \"Dense layer\" indicates that the units of the layer are fully connected with the input layer units https://keras.io/api/layers/core_layers/dense/\n",
        "\n",
        "For further information please have a look into the keras documentation\n",
        "\n",
        "https://keras.io/api/layers/"
      ]
    },
    {
      "cell_type": "code",
      "source": [
        "my_first_neural_net = tf.keras.Sequential([\n",
        "    layers.Input(shape=(2, ), name=\"input\"),                                         \n",
        "    layers.Dense(units=5, activation=\"relu\", name=\"hidden\"),\n",
        "    layers.Dense(units=2, activation=\"softmax\", name=\"output\")\n",
        "])"
      ],
      "metadata": {
        "id": "f5qgmfNmBD7l"
      },
      "execution_count": null,
      "outputs": []
    },
    {
      "cell_type": "code",
      "metadata": {
        "id": "4OyK9-X5nqRe",
        "colab": {
          "base_uri": "https://localhost:8080/"
        },
        "outputId": "9345f430-fa47-4531-c10b-d7b2f75a01d4"
      },
      "source": [
        "# we can use the summary function to inspect the layers of our model \n",
        "my_first_neural_net.summary()"
      ],
      "execution_count": null,
      "outputs": [
        {
          "output_type": "stream",
          "name": "stdout",
          "text": [
            "Model: \"sequential_1\"\n",
            "_________________________________________________________________\n",
            " Layer (type)                Output Shape              Param #   \n",
            "=================================================================\n",
            " hidden (Dense)              (None, 5)                 15        \n",
            "                                                                 \n",
            " output (Dense)              (None, 2)                 12        \n",
            "                                                                 \n",
            "=================================================================\n",
            "Total params: 27\n",
            "Trainable params: 27\n",
            "Non-trainable params: 0\n",
            "_________________________________________________________________\n"
          ]
        }
      ]
    },
    {
      "cell_type": "code",
      "metadata": {
        "id": "_rpOYCmBoOyH",
        "colab": {
          "base_uri": "https://localhost:8080/",
          "height": 312
        },
        "outputId": "b065c758-61ea-4311-9090-c5f3df0bae0b"
      },
      "source": [
        "tf.keras.utils.plot_model(my_first_neural_net, show_layer_names=True, show_shapes=True)"
      ],
      "execution_count": null,
      "outputs": [
        {
          "output_type": "execute_result",
          "data": {
            "image/png": "[encoded data removed]",
            "text/plain": [
              "<IPython.core.display.Image object>"
            ]
          },
          "metadata": {},
          "execution_count": 28
        }
      ]
    },
    {
      "cell_type": "markdown",
      "metadata": {
        "id": "BiPRyHyRKnfi"
      },
      "source": [
        "## 3. Compiling the model\n",
        "\n",
        "Now that we have an structure we need to complete the model. So far, we have how the inputs and outputs will be and how they relate (through the mapping function/structure that we create).\n",
        "\n",
        "Now we need the cost function to measure how well or bad we are doing the things and the learning procedure. We do this through the 'compile' function.\n",
        "\n",
        "Also we include the kind of metric we want to assess. In this case \"accuracy\"\n"
      ]
    },
    {
      "cell_type": "code",
      "source": [
        "my_first_neural_net.compile(optimizer=tf.keras.optimizers.SGD(learning_rate=0.01), \n",
        "                                  loss= tf.keras.losses.sparse_categorical_crossentropy, \n",
        "                                  metrics=['accuracy'])"
      ],
      "metadata": {
        "id": "PQq5EZHJBmkW"
      },
      "execution_count": null,
      "outputs": []
    },
    {
      "cell_type": "markdown",
      "metadata": {
        "id": "LN1JDfVGL-CZ"
      },
      "source": [
        "## 4. Training the model\n",
        "\n",
        "The infamous fit! This basically will run our learning procedure (which it is iterative) over our training dataset, and evaluate over the validation one. "
      ]
    },
    {
      "cell_type": "code",
      "metadata": {
        "id": "EeAZb8jjbRK8",
        "colab": {
          "base_uri": "https://localhost:8080/"
        },
        "outputId": "d0cf62d0-03ca-4450-bb61-294ba0b783dc"
      },
      "source": [
        "history = my_first_neural_net.fit(X, y, epochs=200, verbose=2)"
      ],
      "execution_count": null,
      "outputs": [
        {
          "output_type": "stream",
          "name": "stdout",
          "text": [
            "Epoch 1/200\n",
            "4/4 - 0s - loss: 6.0815 - accuracy: 0.5500 - 245ms/epoch - 61ms/step\n",
            "Epoch 2/200\n",
            "4/4 - 0s - loss: 5.8277 - accuracy: 0.5300 - 11ms/epoch - 3ms/step\n",
            "Epoch 3/200\n",
            "4/4 - 0s - loss: 3.8164 - accuracy: 0.5600 - 11ms/epoch - 3ms/step\n",
            "Epoch 4/200\n",
            "4/4 - 0s - loss: 3.1975 - accuracy: 0.5200 - 10ms/epoch - 3ms/step\n",
            "Epoch 5/200\n",
            "4/4 - 0s - loss: 2.4476 - accuracy: 0.5100 - 10ms/epoch - 3ms/step\n",
            "Epoch 6/200\n",
            "4/4 - 0s - loss: 2.8099 - accuracy: 0.7200 - 11ms/epoch - 3ms/step\n",
            "Epoch 7/200\n",
            "4/4 - 0s - loss: 0.0826 - accuracy: 1.0000 - 10ms/epoch - 3ms/step\n",
            "Epoch 8/200\n",
            "4/4 - 0s - loss: 0.0907 - accuracy: 0.9900 - 11ms/epoch - 3ms/step\n",
            "Epoch 9/200\n",
            "4/4 - 0s - loss: 0.0796 - accuracy: 0.9900 - 10ms/epoch - 2ms/step\n",
            "Epoch 10/200\n",
            "4/4 - 0s - loss: 0.0716 - accuracy: 1.0000 - 14ms/epoch - 4ms/step\n",
            "Epoch 11/200\n",
            "4/4 - 0s - loss: 0.0794 - accuracy: 1.0000 - 11ms/epoch - 3ms/step\n",
            "Epoch 12/200\n",
            "4/4 - 0s - loss: 0.1310 - accuracy: 0.9400 - 11ms/epoch - 3ms/step\n",
            "Epoch 13/200\n",
            "4/4 - 0s - loss: 0.0754 - accuracy: 0.9800 - 11ms/epoch - 3ms/step\n",
            "Epoch 14/200\n",
            "4/4 - 0s - loss: 0.0732 - accuracy: 0.9800 - 11ms/epoch - 3ms/step\n",
            "Epoch 15/200\n",
            "4/4 - 0s - loss: 0.2312 - accuracy: 0.9000 - 10ms/epoch - 3ms/step\n",
            "Epoch 16/200\n",
            "4/4 - 0s - loss: 0.0802 - accuracy: 0.9700 - 11ms/epoch - 3ms/step\n",
            "Epoch 17/200\n",
            "4/4 - 0s - loss: 0.0601 - accuracy: 1.0000 - 11ms/epoch - 3ms/step\n",
            "Epoch 18/200\n",
            "4/4 - 0s - loss: 0.1163 - accuracy: 0.9700 - 10ms/epoch - 3ms/step\n",
            "Epoch 19/200\n",
            "4/4 - 0s - loss: 0.0724 - accuracy: 0.9900 - 11ms/epoch - 3ms/step\n",
            "Epoch 20/200\n",
            "4/4 - 0s - loss: 0.0602 - accuracy: 0.9900 - 11ms/epoch - 3ms/step\n",
            "Epoch 21/200\n",
            "4/4 - 0s - loss: 0.0573 - accuracy: 0.9900 - 16ms/epoch - 4ms/step\n",
            "Epoch 22/200\n",
            "4/4 - 0s - loss: 0.0550 - accuracy: 1.0000 - 11ms/epoch - 3ms/step\n",
            "Epoch 23/200\n",
            "4/4 - 0s - loss: 0.0504 - accuracy: 1.0000 - 12ms/epoch - 3ms/step\n",
            "Epoch 24/200\n",
            "4/4 - 0s - loss: 0.0680 - accuracy: 0.9800 - 14ms/epoch - 4ms/step\n",
            "Epoch 25/200\n",
            "4/4 - 0s - loss: 0.0521 - accuracy: 0.9900 - 12ms/epoch - 3ms/step\n",
            "Epoch 26/200\n",
            "4/4 - 0s - loss: 0.0502 - accuracy: 1.0000 - 11ms/epoch - 3ms/step\n",
            "Epoch 27/200\n",
            "4/4 - 0s - loss: 0.0469 - accuracy: 0.9900 - 11ms/epoch - 3ms/step\n",
            "Epoch 28/200\n",
            "4/4 - 0s - loss: 0.1203 - accuracy: 0.9500 - 11ms/epoch - 3ms/step\n",
            "Epoch 29/200\n",
            "4/4 - 0s - loss: 0.0490 - accuracy: 0.9900 - 11ms/epoch - 3ms/step\n",
            "Epoch 30/200\n",
            "4/4 - 0s - loss: 0.0476 - accuracy: 0.9900 - 11ms/epoch - 3ms/step\n",
            "Epoch 31/200\n",
            "4/4 - 0s - loss: 0.0605 - accuracy: 0.9800 - 11ms/epoch - 3ms/step\n",
            "Epoch 32/200\n",
            "4/4 - 0s - loss: 0.0491 - accuracy: 0.9900 - 11ms/epoch - 3ms/step\n",
            "Epoch 33/200\n",
            "4/4 - 0s - loss: 0.0418 - accuracy: 0.9900 - 11ms/epoch - 3ms/step\n",
            "Epoch 34/200\n",
            "4/4 - 0s - loss: 0.0422 - accuracy: 1.0000 - 11ms/epoch - 3ms/step\n",
            "Epoch 35/200\n",
            "4/4 - 0s - loss: 0.0508 - accuracy: 1.0000 - 17ms/epoch - 4ms/step\n",
            "Epoch 36/200\n",
            "4/4 - 0s - loss: 0.0684 - accuracy: 0.9700 - 11ms/epoch - 3ms/step\n",
            "Epoch 37/200\n",
            "4/4 - 0s - loss: 0.0679 - accuracy: 0.9900 - 10ms/epoch - 3ms/step\n",
            "Epoch 38/200\n",
            "4/4 - 0s - loss: 0.0451 - accuracy: 0.9900 - 11ms/epoch - 3ms/step\n",
            "Epoch 39/200\n",
            "4/4 - 0s - loss: 0.0451 - accuracy: 0.9900 - 11ms/epoch - 3ms/step\n",
            "Epoch 40/200\n",
            "4/4 - 0s - loss: 0.0380 - accuracy: 1.0000 - 11ms/epoch - 3ms/step\n",
            "Epoch 41/200\n",
            "4/4 - 0s - loss: 0.0416 - accuracy: 0.9900 - 11ms/epoch - 3ms/step\n",
            "Epoch 42/200\n",
            "4/4 - 0s - loss: 0.0437 - accuracy: 0.9900 - 10ms/epoch - 3ms/step\n",
            "Epoch 43/200\n",
            "4/4 - 0s - loss: 0.0373 - accuracy: 0.9900 - 10ms/epoch - 3ms/step\n",
            "Epoch 44/200\n",
            "4/4 - 0s - loss: 0.0375 - accuracy: 1.0000 - 11ms/epoch - 3ms/step\n",
            "Epoch 45/200\n",
            "4/4 - 0s - loss: 0.0480 - accuracy: 0.9900 - 12ms/epoch - 3ms/step\n",
            "Epoch 46/200\n",
            "4/4 - 0s - loss: 0.0360 - accuracy: 0.9900 - 11ms/epoch - 3ms/step\n",
            "Epoch 47/200\n",
            "4/4 - 0s - loss: 0.0355 - accuracy: 1.0000 - 11ms/epoch - 3ms/step\n",
            "Epoch 48/200\n",
            "4/4 - 0s - loss: 0.0357 - accuracy: 1.0000 - 21ms/epoch - 5ms/step\n",
            "Epoch 49/200\n",
            "4/4 - 0s - loss: 0.0382 - accuracy: 1.0000 - 10ms/epoch - 3ms/step\n",
            "Epoch 50/200\n",
            "4/4 - 0s - loss: 0.0446 - accuracy: 0.9900 - 11ms/epoch - 3ms/step\n",
            "Epoch 51/200\n",
            "4/4 - 0s - loss: 0.0359 - accuracy: 0.9900 - 10ms/epoch - 3ms/step\n",
            "Epoch 52/200\n",
            "4/4 - 0s - loss: 0.0369 - accuracy: 1.0000 - 12ms/epoch - 3ms/step\n",
            "Epoch 53/200\n",
            "4/4 - 0s - loss: 0.0377 - accuracy: 0.9900 - 11ms/epoch - 3ms/step\n",
            "Epoch 54/200\n",
            "4/4 - 0s - loss: 0.1512 - accuracy: 0.9300 - 11ms/epoch - 3ms/step\n",
            "Epoch 55/200\n",
            "4/4 - 0s - loss: 0.2899 - accuracy: 0.8600 - 12ms/epoch - 3ms/step\n",
            "Epoch 56/200\n",
            "4/4 - 0s - loss: 0.0314 - accuracy: 1.0000 - 11ms/epoch - 3ms/step\n",
            "Epoch 57/200\n",
            "4/4 - 0s - loss: 0.0328 - accuracy: 1.0000 - 11ms/epoch - 3ms/step\n",
            "Epoch 58/200\n",
            "4/4 - 0s - loss: 0.0306 - accuracy: 1.0000 - 11ms/epoch - 3ms/step\n",
            "Epoch 59/200\n",
            "4/4 - 0s - loss: 0.0314 - accuracy: 0.9900 - 11ms/epoch - 3ms/step\n",
            "Epoch 60/200\n",
            "4/4 - 0s - loss: 0.0309 - accuracy: 1.0000 - 12ms/epoch - 3ms/step\n",
            "Epoch 61/200\n",
            "4/4 - 0s - loss: 0.0321 - accuracy: 1.0000 - 11ms/epoch - 3ms/step\n",
            "Epoch 62/200\n",
            "4/4 - 0s - loss: 0.0345 - accuracy: 0.9900 - 13ms/epoch - 3ms/step\n",
            "Epoch 63/200\n",
            "4/4 - 0s - loss: 0.0312 - accuracy: 1.0000 - 12ms/epoch - 3ms/step\n",
            "Epoch 64/200\n",
            "4/4 - 0s - loss: 0.0294 - accuracy: 1.0000 - 15ms/epoch - 4ms/step\n",
            "Epoch 65/200\n",
            "4/4 - 0s - loss: 0.0332 - accuracy: 1.0000 - 12ms/epoch - 3ms/step\n",
            "Epoch 66/200\n",
            "4/4 - 0s - loss: 0.0313 - accuracy: 1.0000 - 12ms/epoch - 3ms/step\n",
            "Epoch 67/200\n",
            "4/4 - 0s - loss: 0.0287 - accuracy: 0.9900 - 11ms/epoch - 3ms/step\n",
            "Epoch 68/200\n",
            "4/4 - 0s - loss: 0.0296 - accuracy: 1.0000 - 11ms/epoch - 3ms/step\n",
            "Epoch 69/200\n",
            "4/4 - 0s - loss: 0.0285 - accuracy: 1.0000 - 11ms/epoch - 3ms/step\n",
            "Epoch 70/200\n",
            "4/4 - 0s - loss: 0.0284 - accuracy: 0.9900 - 11ms/epoch - 3ms/step\n",
            "Epoch 71/200\n",
            "4/4 - 0s - loss: 0.0286 - accuracy: 1.0000 - 11ms/epoch - 3ms/step\n",
            "Epoch 72/200\n",
            "4/4 - 0s - loss: 0.0327 - accuracy: 0.9900 - 11ms/epoch - 3ms/step\n",
            "Epoch 73/200\n",
            "4/4 - 0s - loss: 0.0279 - accuracy: 1.0000 - 14ms/epoch - 3ms/step\n",
            "Epoch 74/200\n",
            "4/4 - 0s - loss: 0.0273 - accuracy: 1.0000 - 11ms/epoch - 3ms/step\n",
            "Epoch 75/200\n",
            "4/4 - 0s - loss: 0.0273 - accuracy: 1.0000 - 11ms/epoch - 3ms/step\n",
            "Epoch 76/200\n",
            "4/4 - 0s - loss: 0.0280 - accuracy: 1.0000 - 11ms/epoch - 3ms/step\n",
            "Epoch 77/200\n",
            "4/4 - 0s - loss: 0.0276 - accuracy: 1.0000 - 11ms/epoch - 3ms/step\n",
            "Epoch 78/200\n",
            "4/4 - 0s - loss: 0.0276 - accuracy: 1.0000 - 11ms/epoch - 3ms/step\n",
            "Epoch 79/200\n",
            "4/4 - 0s - loss: 0.0265 - accuracy: 1.0000 - 11ms/epoch - 3ms/step\n",
            "Epoch 80/200\n",
            "4/4 - 0s - loss: 0.0328 - accuracy: 1.0000 - 11ms/epoch - 3ms/step\n",
            "Epoch 81/200\n",
            "4/4 - 0s - loss: 0.0258 - accuracy: 0.9900 - 11ms/epoch - 3ms/step\n",
            "Epoch 82/200\n",
            "4/4 - 0s - loss: 0.0269 - accuracy: 1.0000 - 11ms/epoch - 3ms/step\n",
            "Epoch 83/200\n",
            "4/4 - 0s - loss: 0.0288 - accuracy: 0.9900 - 11ms/epoch - 3ms/step\n",
            "Epoch 84/200\n",
            "4/4 - 0s - loss: 0.0285 - accuracy: 0.9900 - 11ms/epoch - 3ms/step\n",
            "Epoch 85/200\n",
            "4/4 - 0s - loss: 0.0251 - accuracy: 1.0000 - 11ms/epoch - 3ms/step\n",
            "Epoch 86/200\n",
            "4/4 - 0s - loss: 0.0308 - accuracy: 0.9900 - 11ms/epoch - 3ms/step\n",
            "Epoch 87/200\n",
            "4/4 - 0s - loss: 0.0270 - accuracy: 0.9900 - 11ms/epoch - 3ms/step\n",
            "Epoch 88/200\n",
            "4/4 - 0s - loss: 0.0300 - accuracy: 1.0000 - 10ms/epoch - 3ms/step\n",
            "Epoch 89/200\n",
            "4/4 - 0s - loss: 0.1145 - accuracy: 0.9500 - 13ms/epoch - 3ms/step\n",
            "Epoch 90/200\n",
            "4/4 - 0s - loss: 0.0298 - accuracy: 0.9900 - 11ms/epoch - 3ms/step\n",
            "Epoch 91/200\n",
            "4/4 - 0s - loss: 0.0246 - accuracy: 1.0000 - 11ms/epoch - 3ms/step\n",
            "Epoch 92/200\n",
            "4/4 - 0s - loss: 0.0290 - accuracy: 0.9900 - 10ms/epoch - 3ms/step\n",
            "Epoch 93/200\n",
            "4/4 - 0s - loss: 0.0242 - accuracy: 1.0000 - 12ms/epoch - 3ms/step\n",
            "Epoch 94/200\n",
            "4/4 - 0s - loss: 0.0257 - accuracy: 1.0000 - 11ms/epoch - 3ms/step\n",
            "Epoch 95/200\n",
            "4/4 - 0s - loss: 0.0256 - accuracy: 1.0000 - 11ms/epoch - 3ms/step\n",
            "Epoch 96/200\n",
            "4/4 - 0s - loss: 0.0256 - accuracy: 1.0000 - 11ms/epoch - 3ms/step\n",
            "Epoch 97/200\n",
            "4/4 - 0s - loss: 0.0239 - accuracy: 1.0000 - 11ms/epoch - 3ms/step\n",
            "Epoch 98/200\n",
            "4/4 - 0s - loss: 0.0252 - accuracy: 1.0000 - 11ms/epoch - 3ms/step\n",
            "Epoch 99/200\n",
            "4/4 - 0s - loss: 0.0252 - accuracy: 1.0000 - 11ms/epoch - 3ms/step\n",
            "Epoch 100/200\n",
            "4/4 - 0s - loss: 0.0300 - accuracy: 0.9900 - 10ms/epoch - 3ms/step\n",
            "Epoch 101/200\n",
            "4/4 - 0s - loss: 0.0637 - accuracy: 0.9800 - 12ms/epoch - 3ms/step\n",
            "Epoch 102/200\n",
            "4/4 - 0s - loss: 0.0231 - accuracy: 1.0000 - 11ms/epoch - 3ms/step\n",
            "Epoch 103/200\n",
            "4/4 - 0s - loss: 0.0243 - accuracy: 1.0000 - 11ms/epoch - 3ms/step\n",
            "Epoch 104/200\n",
            "4/4 - 0s - loss: 0.0479 - accuracy: 0.9800 - 11ms/epoch - 3ms/step\n",
            "Epoch 105/200\n",
            "4/4 - 0s - loss: 0.0298 - accuracy: 0.9900 - 12ms/epoch - 3ms/step\n",
            "Epoch 106/200\n",
            "4/4 - 0s - loss: 0.0242 - accuracy: 1.0000 - 11ms/epoch - 3ms/step\n",
            "Epoch 107/200\n",
            "4/4 - 0s - loss: 0.0278 - accuracy: 1.0000 - 12ms/epoch - 3ms/step\n",
            "Epoch 108/200\n",
            "4/4 - 0s - loss: 0.0271 - accuracy: 1.0000 - 11ms/epoch - 3ms/step\n",
            "Epoch 109/200\n",
            "4/4 - 0s - loss: 0.0225 - accuracy: 1.0000 - 11ms/epoch - 3ms/step\n",
            "Epoch 110/200\n",
            "4/4 - 0s - loss: 0.0249 - accuracy: 0.9900 - 11ms/epoch - 3ms/step\n",
            "Epoch 111/200\n",
            "4/4 - 0s - loss: 0.0269 - accuracy: 1.0000 - 13ms/epoch - 3ms/step\n",
            "Epoch 112/200\n",
            "4/4 - 0s - loss: 0.0237 - accuracy: 1.0000 - 15ms/epoch - 4ms/step\n",
            "Epoch 113/200\n",
            "4/4 - 0s - loss: 0.0245 - accuracy: 1.0000 - 11ms/epoch - 3ms/step\n",
            "Epoch 114/200\n",
            "4/4 - 0s - loss: 0.0220 - accuracy: 0.9900 - 11ms/epoch - 3ms/step\n",
            "Epoch 115/200\n",
            "4/4 - 0s - loss: 0.0232 - accuracy: 1.0000 - 11ms/epoch - 3ms/step\n",
            "Epoch 116/200\n",
            "4/4 - 0s - loss: 0.0233 - accuracy: 1.0000 - 11ms/epoch - 3ms/step\n",
            "Epoch 117/200\n",
            "4/4 - 0s - loss: 0.0279 - accuracy: 0.9900 - 11ms/epoch - 3ms/step\n",
            "Epoch 118/200\n",
            "4/4 - 0s - loss: 0.1382 - accuracy: 0.9200 - 10ms/epoch - 3ms/step\n",
            "Epoch 119/200\n",
            "4/4 - 0s - loss: 0.0264 - accuracy: 0.9900 - 11ms/epoch - 3ms/step\n",
            "Epoch 120/200\n",
            "4/4 - 0s - loss: 0.0255 - accuracy: 0.9900 - 11ms/epoch - 3ms/step\n",
            "Epoch 121/200\n",
            "4/4 - 0s - loss: 0.0260 - accuracy: 0.9900 - 11ms/epoch - 3ms/step\n",
            "Epoch 122/200\n",
            "4/4 - 0s - loss: 0.0207 - accuracy: 1.0000 - 11ms/epoch - 3ms/step\n",
            "Epoch 123/200\n",
            "4/4 - 0s - loss: 0.0208 - accuracy: 1.0000 - 11ms/epoch - 3ms/step\n",
            "Epoch 124/200\n",
            "4/4 - 0s - loss: 0.0225 - accuracy: 1.0000 - 21ms/epoch - 5ms/step\n",
            "Epoch 125/200\n",
            "4/4 - 0s - loss: 0.0281 - accuracy: 0.9900 - 11ms/epoch - 3ms/step\n",
            "Epoch 126/200\n",
            "4/4 - 0s - loss: 0.0217 - accuracy: 0.9900 - 11ms/epoch - 3ms/step\n",
            "Epoch 127/200\n",
            "4/4 - 0s - loss: 0.0226 - accuracy: 1.0000 - 11ms/epoch - 3ms/step\n",
            "Epoch 128/200\n",
            "4/4 - 0s - loss: 0.0215 - accuracy: 0.9900 - 11ms/epoch - 3ms/step\n",
            "Epoch 129/200\n",
            "4/4 - 0s - loss: 0.0198 - accuracy: 1.0000 - 11ms/epoch - 3ms/step\n",
            "Epoch 130/200\n",
            "4/4 - 0s - loss: 0.0196 - accuracy: 1.0000 - 18ms/epoch - 4ms/step\n",
            "Epoch 131/200\n",
            "4/4 - 0s - loss: 0.0198 - accuracy: 1.0000 - 11ms/epoch - 3ms/step\n",
            "Epoch 132/200\n",
            "4/4 - 0s - loss: 0.0233 - accuracy: 1.0000 - 11ms/epoch - 3ms/step\n",
            "Epoch 133/200\n",
            "4/4 - 0s - loss: 0.0270 - accuracy: 0.9900 - 11ms/epoch - 3ms/step\n",
            "Epoch 134/200\n",
            "4/4 - 0s - loss: 0.0229 - accuracy: 1.0000 - 11ms/epoch - 3ms/step\n",
            "Epoch 135/200\n",
            "4/4 - 0s - loss: 0.0215 - accuracy: 1.0000 - 11ms/epoch - 3ms/step\n",
            "Epoch 136/200\n",
            "4/4 - 0s - loss: 0.0201 - accuracy: 1.0000 - 11ms/epoch - 3ms/step\n",
            "Epoch 137/200\n",
            "4/4 - 0s - loss: 0.0774 - accuracy: 0.9600 - 11ms/epoch - 3ms/step\n",
            "Epoch 138/200\n",
            "4/4 - 0s - loss: 0.0284 - accuracy: 0.9900 - 11ms/epoch - 3ms/step\n",
            "Epoch 139/200\n",
            "4/4 - 0s - loss: 0.0221 - accuracy: 1.0000 - 11ms/epoch - 3ms/step\n",
            "Epoch 140/200\n",
            "4/4 - 0s - loss: 0.0205 - accuracy: 1.0000 - 10ms/epoch - 3ms/step\n",
            "Epoch 141/200\n",
            "4/4 - 0s - loss: 0.0199 - accuracy: 1.0000 - 11ms/epoch - 3ms/step\n",
            "Epoch 142/200\n",
            "4/4 - 0s - loss: 0.0231 - accuracy: 1.0000 - 10ms/epoch - 3ms/step\n",
            "Epoch 143/200\n",
            "4/4 - 0s - loss: 0.0244 - accuracy: 1.0000 - 11ms/epoch - 3ms/step\n",
            "Epoch 144/200\n",
            "4/4 - 0s - loss: 0.0253 - accuracy: 1.0000 - 11ms/epoch - 3ms/step\n",
            "Epoch 145/200\n",
            "4/4 - 0s - loss: 0.0261 - accuracy: 0.9900 - 11ms/epoch - 3ms/step\n",
            "Epoch 146/200\n",
            "4/4 - 0s - loss: 0.0190 - accuracy: 1.0000 - 12ms/epoch - 3ms/step\n",
            "Epoch 147/200\n",
            "4/4 - 0s - loss: 0.0194 - accuracy: 1.0000 - 10ms/epoch - 3ms/step\n",
            "Epoch 148/200\n",
            "4/4 - 0s - loss: 0.0218 - accuracy: 1.0000 - 10ms/epoch - 2ms/step\n",
            "Epoch 149/200\n",
            "4/4 - 0s - loss: 0.0186 - accuracy: 1.0000 - 11ms/epoch - 3ms/step\n",
            "Epoch 150/200\n",
            "4/4 - 0s - loss: 0.0202 - accuracy: 1.0000 - 12ms/epoch - 3ms/step\n",
            "Epoch 151/200\n",
            "4/4 - 0s - loss: 0.0191 - accuracy: 1.0000 - 12ms/epoch - 3ms/step\n",
            "Epoch 152/200\n",
            "4/4 - 0s - loss: 0.0203 - accuracy: 1.0000 - 11ms/epoch - 3ms/step\n",
            "Epoch 153/200\n",
            "4/4 - 0s - loss: 0.0194 - accuracy: 1.0000 - 11ms/epoch - 3ms/step\n",
            "Epoch 154/200\n",
            "4/4 - 0s - loss: 0.0188 - accuracy: 1.0000 - 10ms/epoch - 3ms/step\n",
            "Epoch 155/200\n",
            "4/4 - 0s - loss: 0.0184 - accuracy: 1.0000 - 11ms/epoch - 3ms/step\n",
            "Epoch 156/200\n",
            "4/4 - 0s - loss: 0.0199 - accuracy: 1.0000 - 11ms/epoch - 3ms/step\n",
            "Epoch 157/200\n",
            "4/4 - 0s - loss: 0.0184 - accuracy: 1.0000 - 10ms/epoch - 3ms/step\n",
            "Epoch 158/200\n",
            "4/4 - 0s - loss: 0.0183 - accuracy: 1.0000 - 12ms/epoch - 3ms/step\n",
            "Epoch 159/200\n",
            "4/4 - 0s - loss: 0.0220 - accuracy: 0.9900 - 11ms/epoch - 3ms/step\n",
            "Epoch 160/200\n",
            "4/4 - 0s - loss: 0.0243 - accuracy: 0.9900 - 11ms/epoch - 3ms/step\n",
            "Epoch 161/200\n",
            "4/4 - 0s - loss: 0.0197 - accuracy: 1.0000 - 11ms/epoch - 3ms/step\n",
            "Epoch 162/200\n",
            "4/4 - 0s - loss: 0.0194 - accuracy: 1.0000 - 10ms/epoch - 3ms/step\n",
            "Epoch 163/200\n",
            "4/4 - 0s - loss: 0.0259 - accuracy: 1.0000 - 10ms/epoch - 3ms/step\n",
            "Epoch 164/200\n",
            "4/4 - 0s - loss: 0.0193 - accuracy: 1.0000 - 11ms/epoch - 3ms/step\n",
            "Epoch 165/200\n",
            "4/4 - 0s - loss: 0.0212 - accuracy: 0.9900 - 11ms/epoch - 3ms/step\n",
            "Epoch 166/200\n",
            "4/4 - 0s - loss: 0.0251 - accuracy: 0.9900 - 11ms/epoch - 3ms/step\n",
            "Epoch 167/200\n",
            "4/4 - 0s - loss: 0.0180 - accuracy: 1.0000 - 11ms/epoch - 3ms/step\n",
            "Epoch 168/200\n",
            "4/4 - 0s - loss: 0.0210 - accuracy: 1.0000 - 11ms/epoch - 3ms/step\n",
            "Epoch 169/200\n",
            "4/4 - 0s - loss: 0.0174 - accuracy: 1.0000 - 15ms/epoch - 4ms/step\n",
            "Epoch 170/200\n",
            "4/4 - 0s - loss: 0.0183 - accuracy: 1.0000 - 11ms/epoch - 3ms/step\n",
            "Epoch 171/200\n",
            "4/4 - 0s - loss: 0.0210 - accuracy: 1.0000 - 15ms/epoch - 4ms/step\n",
            "Epoch 172/200\n",
            "4/4 - 0s - loss: 0.0197 - accuracy: 1.0000 - 11ms/epoch - 3ms/step\n",
            "Epoch 173/200\n",
            "4/4 - 0s - loss: 0.0230 - accuracy: 0.9900 - 12ms/epoch - 3ms/step\n",
            "Epoch 174/200\n",
            "4/4 - 0s - loss: 0.0193 - accuracy: 1.0000 - 21ms/epoch - 5ms/step\n",
            "Epoch 175/200\n",
            "4/4 - 0s - loss: 0.0167 - accuracy: 1.0000 - 14ms/epoch - 3ms/step\n",
            "Epoch 176/200\n",
            "4/4 - 0s - loss: 0.0197 - accuracy: 1.0000 - 12ms/epoch - 3ms/step\n",
            "Epoch 177/200\n",
            "4/4 - 0s - loss: 0.0192 - accuracy: 1.0000 - 12ms/epoch - 3ms/step\n",
            "Epoch 178/200\n",
            "4/4 - 0s - loss: 0.0214 - accuracy: 0.9900 - 14ms/epoch - 3ms/step\n",
            "Epoch 179/200\n",
            "4/4 - 0s - loss: 0.0223 - accuracy: 0.9900 - 11ms/epoch - 3ms/step\n",
            "Epoch 180/200\n",
            "4/4 - 0s - loss: 0.0225 - accuracy: 1.0000 - 11ms/epoch - 3ms/step\n",
            "Epoch 181/200\n",
            "4/4 - 0s - loss: 0.0176 - accuracy: 1.0000 - 11ms/epoch - 3ms/step\n",
            "Epoch 182/200\n",
            "4/4 - 0s - loss: 0.0191 - accuracy: 0.9900 - 10ms/epoch - 3ms/step\n",
            "Epoch 183/200\n",
            "4/4 - 0s - loss: 0.0186 - accuracy: 1.0000 - 11ms/epoch - 3ms/step\n",
            "Epoch 184/200\n",
            "4/4 - 0s - loss: 0.0179 - accuracy: 1.0000 - 15ms/epoch - 4ms/step\n",
            "Epoch 185/200\n",
            "4/4 - 0s - loss: 0.0219 - accuracy: 0.9900 - 11ms/epoch - 3ms/step\n",
            "Epoch 186/200\n",
            "4/4 - 0s - loss: 0.0177 - accuracy: 1.0000 - 11ms/epoch - 3ms/step\n",
            "Epoch 187/200\n",
            "4/4 - 0s - loss: 0.0208 - accuracy: 0.9900 - 12ms/epoch - 3ms/step\n",
            "Epoch 188/200\n",
            "4/4 - 0s - loss: 0.0177 - accuracy: 1.0000 - 11ms/epoch - 3ms/step\n",
            "Epoch 189/200\n",
            "4/4 - 0s - loss: 0.0198 - accuracy: 0.9900 - 11ms/epoch - 3ms/step\n",
            "Epoch 190/200\n",
            "4/4 - 0s - loss: 0.0811 - accuracy: 0.9700 - 11ms/epoch - 3ms/step\n",
            "Epoch 191/200\n",
            "4/4 - 0s - loss: 0.0166 - accuracy: 1.0000 - 14ms/epoch - 3ms/step\n",
            "Epoch 192/200\n",
            "4/4 - 0s - loss: 0.0205 - accuracy: 1.0000 - 10ms/epoch - 3ms/step\n",
            "Epoch 193/200\n",
            "4/4 - 0s - loss: 0.0170 - accuracy: 1.0000 - 11ms/epoch - 3ms/step\n",
            "Epoch 194/200\n",
            "4/4 - 0s - loss: 0.0210 - accuracy: 1.0000 - 11ms/epoch - 3ms/step\n",
            "Epoch 195/200\n",
            "4/4 - 0s - loss: 0.0179 - accuracy: 1.0000 - 11ms/epoch - 3ms/step\n",
            "Epoch 196/200\n",
            "4/4 - 0s - loss: 0.0158 - accuracy: 1.0000 - 11ms/epoch - 3ms/step\n",
            "Epoch 197/200\n",
            "4/4 - 0s - loss: 0.0218 - accuracy: 0.9900 - 12ms/epoch - 3ms/step\n",
            "Epoch 198/200\n",
            "4/4 - 0s - loss: 0.0160 - accuracy: 1.0000 - 11ms/epoch - 3ms/step\n",
            "Epoch 199/200\n",
            "4/4 - 0s - loss: 0.0186 - accuracy: 0.9900 - 11ms/epoch - 3ms/step\n",
            "Epoch 200/200\n",
            "4/4 - 0s - loss: 0.0204 - accuracy: 1.0000 - 11ms/epoch - 3ms/step\n"
          ]
        }
      ]
    },
    {
      "cell_type": "markdown",
      "metadata": {
        "id": "--tdbmPdRHIu"
      },
      "source": [
        "## 6. Plot Decision Boundary"
      ]
    },
    {
      "cell_type": "code",
      "source": [
        "test_results = my_first_neural_net.evaluate(X, y, verbose=1)\n",
        "print(f'Test results - Loss: {test_results[0]} - Accuracy: {test_results[1]*100}%')"
      ],
      "metadata": {
        "colab": {
          "base_uri": "https://localhost:8080/"
        },
        "id": "uaBAfIC5lJXe",
        "outputId": "fbf6220a-0ea4-42fa-d78e-aa59720c3f9c"
      },
      "execution_count": null,
      "outputs": [
        {
          "output_type": "stream",
          "name": "stdout",
          "text": [
            "4/4 [==============================] - 0s 3ms/step - loss: 0.0157 - accuracy: 1.0000\n",
            "Test results - Loss: 0.01573372073471546 - Accuracy: 100.0%\n"
          ]
        }
      ]
    },
    {
      "cell_type": "code",
      "source": [
        "class Onehot2Int(object):\n",
        "\n",
        "    def __init__(self, model):\n",
        "        self.model = model\n",
        "\n",
        "    def predict(self, X):\n",
        "        y_pred = self.model.predict(X)\n",
        "        return np.argmax(y_pred, axis=1)"
      ],
      "metadata": {
        "id": "n7aqtEUzmUC6"
      },
      "execution_count": null,
      "outputs": []
    },
    {
      "cell_type": "code",
      "source": [
        "my_first_neural_net_no_one = Onehot2Int(my_first_neural_net)"
      ],
      "metadata": {
        "id": "9mg4rJmAmWD8"
      },
      "execution_count": null,
      "outputs": []
    },
    {
      "cell_type": "code",
      "source": [
        "plot_decision_regions(X, y, clf=my_first_neural_net_no_one)\n",
        "plt.show()"
      ],
      "metadata": {
        "colab": {
          "base_uri": "https://localhost:8080/",
          "height": 285
        },
        "id": "Wh2UQXwBjXPS",
        "outputId": "c2d3f906-6e4e-4f16-8e4c-fe0fd245a6d5"
      },
      "execution_count": null,
      "outputs": [
        {
          "output_type": "stream",
          "name": "stdout",
          "text": [
            "3888/3888 [==============================] - 5s 1ms/step\n"
          ]
        },
        {
          "output_type": "display_data",
          "data": {
            "text/plain": [
              "<Figure size 432x288 with 1 Axes>"
            ],
            "image/png": "[encoded data removed]"
          },
          "metadata": {
            "needs_background": "light"
          }
        }
      ]
    }
  ]
}