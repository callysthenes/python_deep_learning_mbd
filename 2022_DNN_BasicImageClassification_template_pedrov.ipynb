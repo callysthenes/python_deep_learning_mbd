{
  "cells": [
    {
      "cell_type": "markdown",
      "metadata": {
        "id": "jYysdyb-CaWM"
      },
      "source": [
        "# Basic classification: Classify images of clothing"
      ]
    },
    {
      "cell_type": "markdown",
      "metadata": {
        "id": "FbVhjPpzn6BM"
      },
      "source": [
        "This guide trains a neural network model to classify images of clothing, like sneakers and shirts. It's okay if you don't understand all the details; this is a fast-paced overview of a complete TensorFlow program with the details explained as you go.\n",
        "\n",
        "This guide uses [tf.keras](https://www.tensorflow.org/guide/keras), a high-level API to build and train models in TensorFlow."
      ]
    },
    {
      "attachments": {},
      "cell_type": "markdown",
      "metadata": {},
      "source": [
        "## FORUM \n",
        "2022_DNN_BasicImageClassification_template.ipynb\n",
        "\n",
        "a. TODO 1. Create the neural net to solve the problem.\n",
        "\n",
        "b. TODO 2. Compile the model\n",
        "\n",
        "c. TODO 3. Create the callbacks: EarlyStopping and CSVLogger\n",
        "\n",
        "d. TODO 4. Train the model using the callbacks."
      ]
    },
    {
      "cell_type": "code",
      "execution_count": 3,
      "metadata": {},
      "outputs": [
        {
          "name": "stdout",
          "output_type": "stream",
          "text": [
            "Collecting matplotlib\n",
            "  Downloading matplotlib-3.6.3-cp38-cp38-win_amd64.whl (7.2 MB)\n",
            "     ---------------------------------------- 7.2/7.2 MB 3.8 MB/s eta 0:00:00\n",
            "Collecting fonttools>=4.22.0\n",
            "  Using cached fonttools-4.38.0-py3-none-any.whl (965 kB)\n",
            "Requirement already satisfied: python-dateutil>=2.7 in c:\\users\\pedro\\anaconda3\\envs\\tf\\lib\\site-packages (from matplotlib) (2.8.2)\n",
            "Requirement already satisfied: packaging>=20.0 in c:\\users\\pedro\\anaconda3\\envs\\tf\\lib\\site-packages (from matplotlib) (23.0)\n",
            "Collecting pillow>=6.2.0\n",
            "  Downloading Pillow-9.4.0-cp38-cp38-win_amd64.whl (2.5 MB)\n",
            "     ---------------------------------------- 2.5/2.5 MB 8.4 MB/s eta 0:00:00\n",
            "Collecting cycler>=0.10\n",
            "  Using cached cycler-0.11.0-py3-none-any.whl (6.4 kB)\n",
            "Collecting pyparsing>=2.2.1\n",
            "  Using cached pyparsing-3.0.9-py3-none-any.whl (98 kB)\n",
            "Collecting contourpy>=1.0.1\n",
            "  Downloading contourpy-1.0.7-cp38-cp38-win_amd64.whl (162 kB)\n",
            "     -------------------------------------- 163.0/163.0 kB 1.1 MB/s eta 0:00:00\n",
            "Collecting kiwisolver>=1.0.1\n",
            "  Downloading kiwisolver-1.4.4-cp38-cp38-win_amd64.whl (55 kB)\n",
            "     -------------------------------------- 55.4/55.4 kB 320.2 kB/s eta 0:00:00\n",
            "Requirement already satisfied: numpy>=1.19 in c:\\users\\pedro\\anaconda3\\envs\\tf\\lib\\site-packages (from matplotlib) (1.24.2)\n",
            "Requirement already satisfied: six>=1.5 in c:\\users\\pedro\\anaconda3\\envs\\tf\\lib\\site-packages (from python-dateutil>=2.7->matplotlib) (1.16.0)\n",
            "Installing collected packages: pyparsing, pillow, kiwisolver, fonttools, cycler, contourpy, matplotlib\n",
            "Successfully installed contourpy-1.0.7 cycler-0.11.0 fonttools-4.38.0 kiwisolver-1.4.4 matplotlib-3.6.3 pillow-9.4.0 pyparsing-3.0.9\n"
          ]
        },
        {
          "name": "stderr",
          "output_type": "stream",
          "text": [
            "ERROR: Could not find a version that satisfies the requirement matplotlib.pyplot (from versions: none)\n",
            "ERROR: No matching distribution found for matplotlib.pyplot\n"
          ]
        }
      ],
      "source": [
        "#!pip install tensorboard\n",
        "##!pip install matplotlib\n",
        "#!pip install matplotlib.pyplot"
      ]
    },
    {
      "cell_type": "code",
      "execution_count": 1,
      "metadata": {
        "id": "jL3OqFKZ9dFg"
      },
      "outputs": [],
      "source": [
        "try:\n",
        "  # %tensorflow_version only exists in Colab.\n",
        "  %tensorflow_version 2.x\n",
        "except Exception:\n",
        "  pass\n",
        "\n",
        "%reload_ext tensorboard\n"
      ]
    },
    {
      "cell_type": "code",
      "execution_count": 1,
      "metadata": {
        "id": "dzLKpmZICaWN"
      },
      "outputs": [
        {
          "name": "stdout",
          "output_type": "stream",
          "text": [
            "2.11.0\n"
          ]
        }
      ],
      "source": [
        "from __future__ import absolute_import, division, print_function, unicode_literals\n",
        "# TensorFlow and tf.keras\n",
        "import tensorflow as tf\n",
        "from tensorflow import keras\n",
        "\n",
        "# Helper libraries\n",
        "import numpy as np\n",
        "import matplotlib.pyplot as plt\n",
        "\n",
        "print(tf.__version__)"
      ]
    },
    {
      "cell_type": "markdown",
      "metadata": {
        "id": "yR0EdgrLCaWR"
      },
      "source": [
        "## Import the Fashion MNIST dataset"
      ]
    },
    {
      "cell_type": "markdown",
      "metadata": {
        "id": "DLdCchMdCaWQ"
      },
      "source": [
        "This guide uses the [Fashion MNIST](https://github.com/zalandoresearch/fashion-mnist) dataset which contains 70,000 grayscale images in 10 categories. The images show individual articles of clothing at low resolution (28 by 28 pixels), as seen here:\n",
        "\n",
        "<table>\n",
        "  <tr><td>\n",
        "    <img src=\"https://tensorflow.org/images/fashion-mnist-sprite.png\"\n",
        "         alt=\"Fashion MNIST sprite\"  width=\"600\">\n",
        "  </td></tr>\n",
        "  <tr><td align=\"center\">\n",
        "    <b>Figure 1.</b> <a href=\"https://github.com/zalandoresearch/fashion-mnist\">Fashion-MNIST samples</a> (by Zalando, MIT License).<br/>&nbsp;\n",
        "  </td></tr>\n",
        "</table>\n",
        "\n",
        "Fashion MNIST is intended as a drop-in replacement for the classic [MNIST](http://yann.lecun.com/exdb/mnist/) dataset—often used as the \"Hello, World\" of machine learning programs for computer vision. The MNIST dataset contains images of handwritten digits (0, 1, 2, etc.) in a format identical to that of the articles of clothing you'll use here.\n",
        "\n",
        "This guide uses Fashion MNIST for variety, and because it's a slightly more challenging problem than regular MNIST. Both datasets are relatively small and are used to verify that an algorithm works as expected. They're good starting points to test and debug code.\n",
        "\n",
        "Here, 60,000 images are used to train the network and 10,000 images to evaluate how accurately the network learned to classify images. You can access the Fashion MNIST directly from TensorFlow. Import and load the Fashion MNIST data directly from TensorFlow:"
      ]
    },
    {
      "cell_type": "code",
      "execution_count": 2,
      "metadata": {
        "id": "7MqDQO0KCaWS"
      },
      "outputs": [],
      "source": [
        "fashion_mnist = keras.datasets.fashion_mnist\n",
        "\n",
        "(train_images, train_labels), (test_images, test_labels) = fashion_mnist.load_data()"
      ]
    },
    {
      "cell_type": "markdown",
      "metadata": {
        "id": "t9FDsUlxCaWW"
      },
      "source": [
        "Loading the dataset returns four NumPy arrays:\n",
        "\n",
        "* The `train_images` and `train_labels` arrays are the *training set*—the data the model uses to learn.\n",
        "* The model is tested against the *test set*, the `test_images`, and `test_labels` arrays.\n",
        "\n",
        "The images are 28x28 NumPy arrays, with pixel values ranging from 0 to 255. The *labels* are an array of integers, ranging from 0 to 9. These correspond to the *class* of clothing the image represents:\n",
        "\n",
        "<table>\n",
        "  <tr>\n",
        "    <th>Label</th>\n",
        "    <th>Class</th>\n",
        "  </tr>\n",
        "  <tr>\n",
        "    <td>0</td>\n",
        "    <td>T-shirt/top</td>\n",
        "  </tr>\n",
        "  <tr>\n",
        "    <td>1</td>\n",
        "    <td>Trouser</td>\n",
        "  </tr>\n",
        "    <tr>\n",
        "    <td>2</td>\n",
        "    <td>Pullover</td>\n",
        "  </tr>\n",
        "    <tr>\n",
        "    <td>3</td>\n",
        "    <td>Dress</td>\n",
        "  </tr>\n",
        "    <tr>\n",
        "    <td>4</td>\n",
        "    <td>Coat</td>\n",
        "  </tr>\n",
        "    <tr>\n",
        "    <td>5</td>\n",
        "    <td>Sandal</td>\n",
        "  </tr>\n",
        "    <tr>\n",
        "    <td>6</td>\n",
        "    <td>Shirt</td>\n",
        "  </tr>\n",
        "    <tr>\n",
        "    <td>7</td>\n",
        "    <td>Sneaker</td>\n",
        "  </tr>\n",
        "    <tr>\n",
        "    <td>8</td>\n",
        "    <td>Bag</td>\n",
        "  </tr>\n",
        "    <tr>\n",
        "    <td>9</td>\n",
        "    <td>Ankle boot</td>\n",
        "  </tr>\n",
        "</table>\n",
        "\n",
        "Each image is mapped to a single label. Since the *class names* are not included with the dataset, store them here to use later when plotting the images:"
      ]
    },
    {
      "cell_type": "code",
      "execution_count": 3,
      "metadata": {
        "id": "IjnLH5S2CaWx"
      },
      "outputs": [],
      "source": [
        "class_names = ['T-shirt/top', 'Trouser', 'Pullover', 'Dress', 'Coat',\n",
        "               'Sandal', 'Shirt', 'Sneaker', 'Bag', 'Ankle boot']"
      ]
    },
    {
      "cell_type": "markdown",
      "metadata": {
        "id": "Brm0b_KACaWX"
      },
      "source": [
        "## Explore the data\n",
        "\n",
        "Let's explore the format of the dataset before training the model. The following shows there are 60,000 images in the training set, with each image represented as 28 x 28 pixels:"
      ]
    },
    {
      "cell_type": "code",
      "execution_count": 4,
      "metadata": {
        "id": "zW5k_xz1CaWX"
      },
      "outputs": [
        {
          "data": {
            "text/plain": [
              "(60000, 28, 28)"
            ]
          },
          "execution_count": 4,
          "metadata": {},
          "output_type": "execute_result"
        }
      ],
      "source": [
        "train_images.shape"
      ]
    },
    {
      "cell_type": "markdown",
      "metadata": {
        "id": "cIAcvQqMCaWf"
      },
      "source": [
        "Likewise, there are 60,000 labels in the training set:"
      ]
    },
    {
      "cell_type": "code",
      "execution_count": 5,
      "metadata": {
        "id": "TRFYHB2mCaWb"
      },
      "outputs": [
        {
          "data": {
            "text/plain": [
              "60000"
            ]
          },
          "execution_count": 5,
          "metadata": {},
          "output_type": "execute_result"
        }
      ],
      "source": [
        "len(train_labels)"
      ]
    },
    {
      "cell_type": "markdown",
      "metadata": {
        "id": "YSlYxFuRCaWk"
      },
      "source": [
        "Each label is an integer between 0 and 9:"
      ]
    },
    {
      "cell_type": "code",
      "execution_count": 6,
      "metadata": {
        "id": "XKnCTHz4CaWg"
      },
      "outputs": [
        {
          "data": {
            "text/plain": [
              "array([9, 0, 0, ..., 3, 0, 5], dtype=uint8)"
            ]
          },
          "execution_count": 6,
          "metadata": {},
          "output_type": "execute_result"
        }
      ],
      "source": [
        "train_labels"
      ]
    },
    {
      "cell_type": "markdown",
      "metadata": {
        "id": "TMPI88iZpO2T"
      },
      "source": [
        "There are 10,000 images in the test set. Again, each image is represented as 28 x 28 pixels:"
      ]
    },
    {
      "cell_type": "code",
      "execution_count": 7,
      "metadata": {
        "id": "2KFnYlcwCaWl"
      },
      "outputs": [
        {
          "data": {
            "text/plain": [
              "(10000, 28, 28)"
            ]
          },
          "execution_count": 7,
          "metadata": {},
          "output_type": "execute_result"
        }
      ],
      "source": [
        "test_images.shape"
      ]
    },
    {
      "cell_type": "markdown",
      "metadata": {
        "id": "rd0A0Iu0CaWq"
      },
      "source": [
        "And the test set contains 10,000 images labels:"
      ]
    },
    {
      "cell_type": "code",
      "execution_count": 8,
      "metadata": {
        "id": "iJmPr5-ACaWn"
      },
      "outputs": [
        {
          "data": {
            "text/plain": [
              "10000"
            ]
          },
          "execution_count": 8,
          "metadata": {},
          "output_type": "execute_result"
        }
      ],
      "source": [
        "len(test_labels)"
      ]
    },
    {
      "cell_type": "markdown",
      "metadata": {
        "id": "ES6uQoLKCaWr"
      },
      "source": [
        "## Preprocess the data\n",
        "\n",
        "The data must be preprocessed before training the network. If you inspect the first image in the training set, you will see that the pixel values fall in the range of 0 to 255:"
      ]
    },
    {
      "cell_type": "code",
      "execution_count": 9,
      "metadata": {
        "id": "m4VEw8Ud9Quh"
      },
      "outputs": [
        {
          "data": {
            "image/png": "[encoded data removed]",
            "text/plain": [
              "<Figure size 640x480 with 2 Axes>"
            ]
          },
          "metadata": {},
          "output_type": "display_data"
        }
      ],
      "source": [
        "plt.figure()\n",
        "plt.imshow(train_images[0], cmap=plt.cm.binary)\n",
        "plt.colorbar()\n",
        "plt.grid(False)\n",
        "plt.show()"
      ]
    },
    {
      "attachments": {},
      "cell_type": "markdown",
      "metadata": {
        "id": "Wz7l27Lz9S1P"
      },
      "source": [
        "Scale these values to a range of 0 to 1 before feeding them to the neural network model. To do so, divide the values by 255. "
      ]
    },
    {
      "attachments": {},
      "cell_type": "markdown",
      "metadata": {},
      "source": [
        "#### It's important that the *training set* and the *testing set* be preprocessed in the same way:"
      ]
    },
    {
      "cell_type": "code",
      "execution_count": 10,
      "metadata": {
        "id": "bW5WzIPlCaWv"
      },
      "outputs": [],
      "source": [
        "train_images = train_images / 255.0\n",
        "\n",
        "test_images = test_images / 255.0"
      ]
    },
    {
      "cell_type": "markdown",
      "metadata": {
        "id": "Ee638AlnCaWz"
      },
      "source": [
        "To verify that the data is in the correct format and that you're ready to build and train the network, let's display the first 25 images from the *training set* and display the class name below each image."
      ]
    },
    {
      "cell_type": "code",
      "execution_count": 11,
      "metadata": {
        "id": "oZTImqg_CaW1"
      },
      "outputs": [
        {
          "data": {
            "image/png": "[encoded data removed]",
            "text/plain": [
              "<Figure size 1000x1000 with 25 Axes>"
            ]
          },
          "metadata": {},
          "output_type": "display_data"
        }
      ],
      "source": [
        "plt.figure(figsize=(10,10))\n",
        "for i in range(25):\n",
        "    plt.subplot(5,5,i+1)\n",
        "    plt.xticks([])\n",
        "    plt.yticks([])\n",
        "    plt.grid(False)\n",
        "    plt.imshow(train_images[i], cmap=plt.cm.binary)\n",
        "    plt.xlabel(class_names[train_labels[i]])\n",
        "plt.show()"
      ]
    },
    {
      "cell_type": "markdown",
      "metadata": {
        "id": "59veuiEZCaW4"
      },
      "source": [
        "## Build the model\n",
        "\n",
        "Building the neural network requires configuring the layers of the model, then compiling the model."
      ]
    },
    {
      "cell_type": "markdown",
      "metadata": {
        "id": "Gxg1XGm0eOBy"
      },
      "source": [
        "### Set up the layers\n",
        "\n",
        "The basic building block of a neural network is the *layer*. Layers extract representations from the data fed into them. Hopefully, these representations are meaningful for the problem at hand.\n",
        "\n",
        "Most of deep learning consists of chaining together simple layers. Most layers, such as `tf.keras.layers.Dense`, have parameters that are learned during training."
      ]
    },
    {
      "cell_type": "markdown",
      "metadata": {
        "id": "r_YFlev64rVN"
      },
      "source": []
    },
    {
      "cell_type": "code",
      "execution_count": 16,
      "metadata": {
        "id": "9ODch-OFCaW4"
      },
      "outputs": [],
      "source": [
        "# TODO 1. \n",
        "# Create a dense multilayer neural net of two hidden layers (64 units each)\n",
        "# The input should be a 28 x 28 matrix -- hint use layers.Flatten \n",
        "# The output must have 10 units (one per class)\n",
        "# use ReLU as the activation funtion of hidden layer\n",
        "# use softmax as the activation function of the output layer\n"
      ]
    },
    {
      "cell_type": "code",
      "execution_count": 12,
      "metadata": {},
      "outputs": [],
      "source": [
        "\n",
        "model = keras.Sequential([\n",
        "    keras.layers.Flatten(input_shape=(28, 28)),\n",
        "    keras.layers.Dense(64, activation='relu'),\n",
        "    keras.layers.Dense(64, activation='relu'),\n",
        "    keras.layers.Dense(10, activation='softmax')\n",
        "])\n"
      ]
    },
    {
      "cell_type": "code",
      "execution_count": 13,
      "metadata": {
        "id": "9y7AuvcXCScq"
      },
      "outputs": [
        {
          "name": "stdout",
          "output_type": "stream",
          "text": [
            "Model: \"sequential\"\n",
            "_________________________________________________________________\n",
            " Layer (type)                Output Shape              Param #   \n",
            "=================================================================\n",
            " flatten (Flatten)           (None, 784)               0         \n",
            "                                                                 \n",
            " dense (Dense)               (None, 64)                50240     \n",
            "                                                                 \n",
            " dense_1 (Dense)             (None, 64)                4160      \n",
            "                                                                 \n",
            " dense_2 (Dense)             (None, 10)                650       \n",
            "                                                                 \n",
            "=================================================================\n",
            "Total params: 55,050\n",
            "Trainable params: 55,050\n",
            "Non-trainable params: 0\n",
            "_________________________________________________________________\n"
          ]
        }
      ],
      "source": [
        "model.summary()"
      ]
    },
    {
      "cell_type": "code",
      "execution_count": 17,
      "metadata": {},
      "outputs": [
        {
          "name": "stdout",
          "output_type": "stream",
          "text": [
            "Requirement already satisfied: graphviz in c:\\users\\pedro\\anaconda3\\envs\\tf\\lib\\site-packages (0.20.1)\n"
          ]
        }
      ],
      "source": [
        "#!pip install pydot\n",
        "#!pip install graphviz"
      ]
    },
    {
      "cell_type": "code",
      "execution_count": 18,
      "metadata": {
        "id": "mjXrb9LLCXCW"
      },
      "outputs": [
        {
          "name": "stdout",
          "output_type": "stream",
          "text": [
            "You must install pydot (`pip install pydot`) and install graphviz (see instructions at https://graphviz.gitlab.io/download/) for plot_model to work.\n"
          ]
        }
      ],
      "source": [
        "tf.keras.utils.plot_model(model, to_file='model_combined.png', show_shapes=True, show_layer_names=True)\n"
      ]
    },
    {
      "cell_type": "markdown",
      "metadata": {
        "id": "gut8A_7rCaW6"
      },
      "source": [
        "The first layer in this network, `tf.keras.layers.Flatten`, transforms the format of the images from a two-dimensional array (of 28 by 28 pixels) to a one-dimensional array (of 28 * 28 = 784 pixels). Think of this layer as unstacking rows of pixels in the image and lining them up. This layer has no parameters to learn; it only reformats the data.\n",
        "\n",
        "After the pixels are flattened, the network consists of a sequence of two `tf.keras.layers.Dense` layers. These are densely connected, or fully connected, neural layers. The first `Dense` layer has 128 nodes (or neurons). The second (and last) layer is a 10-node *softmax* layer that returns an array of 10 probability scores that sum to 1. Each node contains a score that indicates the probability that the current image belongs to one of the 10 classes.\n",
        "\n",
        "### Compile the model\n",
        "\n",
        "Before the model is ready for training, it needs a few more settings. These are added during the model's *compile* step:\n",
        "\n",
        "* *Loss function* —This measures how accurate the model is during training. You want to minimize this function to \"steer\" the model in the right direction.\n",
        "* *Optimizer* —This is how the model is updated based on the data it sees and its loss function.\n",
        "* *Metrics* —Used to monitor the training and testing steps. The following example uses *accuracy*, the fraction of the images that are correctly classified."
      ]
    },
    {
      "cell_type": "code",
      "execution_count": 19,
      "metadata": {
        "id": "Lhan11blCaW7"
      },
      "outputs": [],
      "source": [
        "# TODO 2. \n",
        "# set the optimizer and the cost function. You can choose and try among different optimizers\n",
        "# https://keras.io/api/optimizers/\n",
        "# The cost function should be from the crossentropy family (if we use softmax), but which one? \n",
        "# https://keras.io/api/losses/ \n",
        "\n",
        "model4 = model.compile(optimizer='adagrad',\n",
        "                loss='sparse_categorical_crossentropy',\n",
        "                metrics=['accuracy'])\n",
        "\n"
      ]
    },
    {
      "attachments": {},
      "cell_type": "markdown",
      "metadata": {},
      "source": [
        "\n",
        "model2 = model.compile(optimizer='sgd',\n",
        "                loss='sparse_categorical_crossentropy',\n",
        "                metrics=['accuracy'])\n",
        "\n",
        "model3 = model.compile(optimizer='rmsprop',\n",
        "                loss='sparse_categorical_crossentropy',\n",
        "                metrics=['accuracy'])\n",
        "\n",
        "model11 = model.compile(optimizer='adagrad',\n",
        "                loss='sparse_categorical_crossentropy',\n",
        "                metrics=['categorical_accuracy'])\n",
        "\n",
        "model4 = model.compile(optimizer='adagrad',\n",
        "                loss='sparse_categorical_crossentropy',\n",
        "                metrics=['accuracy'])\n",
        "\n",
        "model5 = model.compile(optimizer='adadelta',\n",
        "                loss='sparse_categorical_crossentropy',\n",
        "                metrics=['accuracy'])\n",
        "\n",
        "model6 = model.compile(optimizer='adamax',\n",
        "                loss='sparse_categorical_crossentropy',\n",
        "                metrics=['accuracy'])\n",
        "\n",
        "model1 = model.compile(optimizer='adam',\n",
        "              loss='sparse_categorical_crossentropy',\n",
        "              metrics=['accuracy'])\n",
        "\n",
        "\n",
        "model7 = model.compile(optimizer='nadam',   \n",
        "                loss='sparse_categorical_crossentropy',\n",
        "                metrics=['accuracy'])\n",
        "\n",
        "#changing metrics for each of these models not including accuracy\n",
        "model8 = model.compile(optimizer='adam',\n",
        "                loss='sparse_categorical_crossentropy',\n",
        "                metrics=['categorical_accuracy'])\n",
        "\n",
        "model9 = model.compile(optimizer='sgd',\n",
        "                loss='sparse_categorical_crossentropy',\n",
        "                metrics=['categorical_accuracy'])\n",
        "\n",
        "model10 = model.compile(optimizer='rmsprop',\n",
        "                loss='sparse_categorical_crossentropy',\n",
        "                metrics=['categorical_accuracy'])\n",
        "\n",
        "model11 = model.compile(optimizer='adagrad',\n",
        "                loss='sparse_categorical_crossentropy',\n",
        "                metrics=['categorical_accuracy'])\n",
        "\n",
        "model12 = model.compile(optimizer='adadelta',\n",
        "                loss='sparse_categorical_crossentropy',\n",
        "                metrics=['categorical_accuracy'])\n",
        "\n",
        "model13 = model.compile(optimizer='adamax',\n",
        "                loss='sparse_categorical_crossentropy',\n",
        "                metrics=['categorical_accuracy'])\n",
        "\n",
        "model14 = model.compile(optimizer='nadam',   \n",
        "                loss='sparse_categorical_crossentropy',\n",
        "                metrics=['categorical_accuracy'])\n",
        "\n",
        "#changing metrics for each of these models including mae and mse\n",
        "model15 = model.compile(optimizer='adam',\n",
        "                loss='sparse_categorical_crossentropy',\n",
        "                metrics=['mae', 'mse'])\n",
        "\n",
        "model16 = model.compile(optimizer='sgd',\n",
        "                loss='sparse_categorical_crossentropy',\n",
        "                metrics=['mae', 'mse'])\n",
        "\n",
        "model17 = model.compile(optimizer='rmsprop',\n",
        "                loss='sparse_categorical_crossentropy',\n",
        "                metrics=['mae', 'mse'])\n",
        "\n",
        "model18 = model.compile(optimizer='adagrad',\n",
        "                loss='sparse_categorical_crossentropy',\n",
        "                metrics=['mae', 'mse'])\n",
        "\n",
        "model19 = model.compile(optimizer='adadelta',\n",
        "                loss='sparse_categorical_crossentropy',\n",
        "                metrics=['mae', 'mse'])\n",
        "\n",
        "model20 = model.compile(optimizer='adamax',\n",
        "                loss='sparse_categorical_crossentropy',\n",
        "                metrics=['mae', 'mse'])\n",
        "\n",
        "model21 = model.compile(optimizer='nadam',   \n",
        "                loss='sparse_categorical_crossentropy',\n",
        "                metrics=['mae', 'mse'])\n",
        "\n",
        "\n"
      ]
    },
    {
      "cell_type": "markdown",
      "metadata": {
        "id": "a6tCAUVHOSv3"
      },
      "source": [
        "## TODO 3. Use Callbacks\n"
      ]
    },
    {
      "cell_type": "code",
      "execution_count": 20,
      "metadata": {},
      "outputs": [
        {
          "name": "stderr",
          "output_type": "stream",
          "text": [
            "Invalid switch - \"logs\".\n"
          ]
        }
      ],
      "source": [
        "\n",
        "# Include a callback function for early stopping when training each of these models\n",
        "# Include a callback function to write in plain text the logs of the fit function.\n",
        "# EXTRA. Include a callback for tensorboard to monitorize the training in a visual way.\n",
        "# https://keras.io/api/callbacks/ \n",
        "\n",
        "import datetime\n",
        "!del -rf ./logs/\n",
        "tensorboard_callback = keras.callbacks.TensorBoard(log_dir=\"logs\")\n",
        "log_dir = \"logs/fit/\" + datetime.datetime.now().strftime(\"%Y%m%d-%H%M%S\")\n",
        "tensorboard_callback = keras.callbacks.TensorBoard(log_dir=log_dir, histogram_freq=1)\n",
        "csv_logger_callback = keras.callbacks.CSVLogger('training.log')\n",
        "early_stopping = keras.callbacks.EarlyStopping(\n",
        "    monitor='accuracy', min_delta=0, patience=3, verbose=0,\n",
        "    mode='auto', baseline=None, restore_best_weights=False\n",
        ")\n",
        "callbacks = [tensorboard_callback, csv_logger_callback, early_stopping]"
      ]
    },
    {
      "cell_type": "code",
      "execution_count": 21,
      "metadata": {},
      "outputs": [
        {
          "name": "stderr",
          "output_type": "stream",
          "text": [
            "UsageError: Line magic function `%tensorboard` not found.\n"
          ]
        }
      ],
      "source": [
        "%tensorboard --logdir logs/fit"
      ]
    },
    {
      "cell_type": "markdown",
      "metadata": {
        "id": "qKF6uW-BCaW-"
      },
      "source": [
        "## Train the model\n",
        "\n",
        "Training the neural network model requires the following steps:\n",
        "\n",
        "1. Feed the training data to the model. In this example, the training data is in the `train_images` and `train_labels` arrays.\n",
        "2. The model learns to associate images and labels.\n",
        "3. You ask the model to make predictions about a test set—in this example, the `test_images` array. Verify that the predictions match the labels from the `test_labels` array.\n",
        "\n",
        "To start training,  call the `model.fit` method—so called because it \"fits\" the model to the training data:"
      ]
    },
    {
      "attachments": {},
      "cell_type": "markdown",
      "metadata": {},
      "source": [
        "## TODO 4. Training / Fitting"
      ]
    },
    {
      "cell_type": "code",
      "execution_count": 22,
      "metadata": {},
      "outputs": [
        {
          "name": "stdout",
          "output_type": "stream",
          "text": [
            "Epoch 1/10\n",
            "1875/1875 [==============================] - 3s 1ms/step - loss: 1.3116 - accuracy: 0.5765\n",
            "Epoch 2/10\n",
            "1875/1875 [==============================] - 2s 1ms/step - loss: 0.8168 - accuracy: 0.7173\n",
            "Epoch 3/10\n",
            "1875/1875 [==============================] - 2s 1ms/step - loss: 0.7135 - accuracy: 0.7614\n",
            "Epoch 4/10\n",
            "1875/1875 [==============================] - 2s 1ms/step - loss: 0.6599 - accuracy: 0.7818\n",
            "Epoch 5/10\n",
            "1875/1875 [==============================] - 2s 1ms/step - loss: 0.6248 - accuracy: 0.7954\n",
            "Epoch 6/10\n",
            "1875/1875 [==============================] - 2s 1ms/step - loss: 0.5989 - accuracy: 0.8040\n",
            "Epoch 7/10\n",
            "1875/1875 [==============================] - 2s 1ms/step - loss: 0.5794 - accuracy: 0.8101\n",
            "Epoch 8/10\n",
            "1875/1875 [==============================] - 2s 1ms/step - loss: 0.5634 - accuracy: 0.8149\n",
            "Epoch 9/10\n",
            "1875/1875 [==============================] - 2s 1ms/step - loss: 0.5502 - accuracy: 0.8180\n",
            "Epoch 10/10\n",
            "1875/1875 [==============================] - 2s 1ms/step - loss: 0.5390 - accuracy: 0.8215\n"
          ]
        }
      ],
      "source": [
        "# Train adam model using the training dataset and the callbacks you build in the above section\n",
        "history = model.fit(train_images, train_labels, epochs=10, callbacks=callbacks)\n"
      ]
    },
    {
      "cell_type": "code",
      "execution_count": 23,
      "metadata": {},
      "outputs": [
        {
          "data": {
            "image/png": "[encoded data removed]",
            "text/plain": [
              "<Figure size 800x800 with 2 Axes>"
            ]
          },
          "metadata": {},
          "output_type": "display_data"
        },
        {
          "name": "stdout",
          "output_type": "stream",
          "text": [
            "313/313 - 0s - loss: 0.5584 - accuracy: 0.8090 - 366ms/epoch - 1ms/step\n",
            "\n",
            "Test accuracy: 0.8090000152587891\n"
          ]
        }
      ],
      "source": [
        "#plot accuracy and loss for adagrad model\n",
        "acc = history.history['accuracy']\n",
        "loss = history.history['loss']\n",
        "\n",
        "epochs_range = range(10)\n",
        "\n",
        "plt.figure(figsize=(8, 8))\n",
        "plt.subplot(1, 2, 1)\n",
        "plt.plot(epochs_range, acc, label='Training Accuracy')\n",
        "plt.legend(loc='lower right')\n",
        "plt.title('Training Accuracy')\n",
        "\n",
        "plt.subplot(1, 2, 2)\n",
        "plt.plot(epochs_range, loss, label='Training Loss')\n",
        "plt.legend(loc='upper right')\n",
        "plt.title('Training Loss')\n",
        "plt.show()\n",
        "# Evaluate the model using the test dataset\n",
        "test_loss, test_acc = model.evaluate(test_images,  test_labels, verbose=2)\n",
        "\n",
        "print('\\nTest accuracy:', test_acc)\n",
        "\n",
        "\n"
      ]
    },
    {
      "cell_type": "code",
      "execution_count": 24,
      "metadata": {},
      "outputs": [
        {
          "name": "stdout",
          "output_type": "stream",
          "text": [
            "1875/1875 - 2s - loss: 0.5336 - accuracy: 0.8228 - 2s/epoch - 914us/step\n",
            "Train accuracy: 0.8227666616439819\n",
            "Train loss: 0.5336360335350037\n"
          ]
        }
      ],
      "source": [
        "#evaluate model on train data\n",
        "train_loss, train_acc = model.evaluate(train_images,  train_labels, verbose=2)\n",
        "print('Train accuracy:', train_acc)\n",
        "print('Train loss:', train_loss)\n",
        "\n"
      ]
    },
    {
      "cell_type": "markdown",
      "metadata": {
        "id": "W3ZVOhugCaXA"
      },
      "source": [
        "As the model trains, the loss and accuracy metrics are displayed. This model reaches an accuracy of about 0.88 (or 88%) on the training data."
      ]
    },
    {
      "cell_type": "markdown",
      "metadata": {
        "id": "oEw4bZgGCaXB"
      },
      "source": [
        "## Evaluate accuracy\n",
        "\n",
        "Next, compare how the model performs on the test dataset:"
      ]
    },
    {
      "cell_type": "code",
      "execution_count": 25,
      "metadata": {
        "id": "VflXLEeECaXC"
      },
      "outputs": [
        {
          "name": "stdout",
          "output_type": "stream",
          "text": [
            "313/313 - 0s - loss: 0.5584 - accuracy: 0.8090 - 294ms/epoch - 940us/step\n",
            "\n",
            "Test accuracy: 0.8090000152587891\n"
          ]
        }
      ],
      "source": [
        "test_loss, test_acc = model.evaluate(test_images,  test_labels, verbose=2)\n",
        "\n",
        "print('\\nTest accuracy:', test_acc)"
      ]
    },
    {
      "cell_type": "markdown",
      "metadata": {
        "id": "yWfgsmVXCaXG"
      },
      "source": [
        "It turns out that the accuracy on the test dataset is a little less than the accuracy on the training dataset. This gap between training accuracy and test accuracy represents *overfitting*. Overfitting is when a machine learning model performs worse on new, previously unseen inputs than on the training data."
      ]
    },
    {
      "cell_type": "markdown",
      "metadata": {
        "id": "xsoS7CPDCaXH"
      },
      "source": [
        "## Make predictions\n",
        "\n",
        "With the model trained, you can use it to make predictions about some images."
      ]
    },
    {
      "cell_type": "code",
      "execution_count": 26,
      "metadata": {
        "id": "Gl91RPhdCaXI"
      },
      "outputs": [
        {
          "name": "stdout",
          "output_type": "stream",
          "text": [
            "313/313 [==============================] - 0s 901us/step\n"
          ]
        },
        {
          "data": {
            "image/png": "[encoded data removed]",
            "text/plain": [
              "<Figure size 640x480 with 2 Axes>"
            ]
          },
          "metadata": {},
          "output_type": "display_data"
        },
        {
          "name": "stdout",
          "output_type": "stream",
          "text": [
            "9\n",
            "9\n"
          ]
        }
      ],
      "source": [
        "#make a prediction using model on test and show the 28x28 image along its label\n",
        "predictions = model.predict(test_images)\n",
        "plt.figure()\n",
        "plt.imshow(test_images[0])\n",
        "plt.colorbar()\n",
        "plt.grid(False)\n",
        "plt.show()\n",
        "print(np.argmax(predictions[0]))\n",
        "print(test_labels[0])\n"
      ]
    },
    {
      "cell_type": "markdown",
      "metadata": {
        "id": "x9Kk1voUCaXJ"
      },
      "source": [
        "Here, the model has predicted the label for each image in the testing set. Let's take a look at the first prediction:"
      ]
    },
    {
      "cell_type": "code",
      "execution_count": 27,
      "metadata": {
        "id": "3DmJEUinCaXK"
      },
      "outputs": [
        {
          "data": {
            "text/plain": [
              "array([1.6709094e-04, 1.9417792e-05, 1.6557962e-05, 2.5134711e-04,\n",
              "       1.2996524e-04, 1.1324117e-01, 3.1035981e-04, 3.1063390e-01,\n",
              "       1.0646326e-02, 5.6458396e-01], dtype=float32)"
            ]
          },
          "execution_count": 27,
          "metadata": {},
          "output_type": "execute_result"
        }
      ],
      "source": [
        "predictions[0]"
      ]
    },
    {
      "cell_type": "markdown",
      "metadata": {
        "id": "-hw1hgeSCaXN"
      },
      "source": [
        "A prediction is an array of 10 numbers. They represent the model's \"confidence\" that the image corresponds to each of the 10 different articles of clothing. You can see which label has the highest confidence value:"
      ]
    },
    {
      "cell_type": "code",
      "execution_count": 28,
      "metadata": {
        "id": "qsqenuPnCaXO"
      },
      "outputs": [
        {
          "data": {
            "text/plain": [
              "9"
            ]
          },
          "execution_count": 28,
          "metadata": {},
          "output_type": "execute_result"
        }
      ],
      "source": [
        "np.argmax(predictions[0])"
      ]
    },
    {
      "cell_type": "markdown",
      "metadata": {
        "id": "E51yS7iCCaXO"
      },
      "source": [
        "So, the model is most confident that this image is an ankle boot, or `class_names[9]`. Examining the test label shows that this classification is correct:"
      ]
    },
    {
      "cell_type": "code",
      "execution_count": 29,
      "metadata": {
        "id": "Sd7Pgsu6CaXP"
      },
      "outputs": [
        {
          "data": {
            "text/plain": [
              "9"
            ]
          },
          "execution_count": 29,
          "metadata": {},
          "output_type": "execute_result"
        }
      ],
      "source": [
        "test_labels[0]"
      ]
    },
    {
      "cell_type": "markdown",
      "metadata": {
        "id": "ygh2yYC972ne"
      },
      "source": [
        "Graph this to look at the full set of 10 class predictions."
      ]
    },
    {
      "cell_type": "code",
      "execution_count": 30,
      "metadata": {
        "id": "DvYmmrpIy6Y1"
      },
      "outputs": [],
      "source": [
        "def plot_image(i, predictions_array, true_label, img):\n",
        "  predictions_array, true_label, img = predictions_array, true_label[i], img[i]\n",
        "  plt.grid(False)\n",
        "  plt.xticks([])\n",
        "  plt.yticks([])\n",
        "\n",
        "  plt.imshow(img, cmap=plt.cm.binary)\n",
        "\n",
        "  predicted_label = np.argmax(predictions_array)\n",
        "  if predicted_label == true_label:\n",
        "    color = 'blue'\n",
        "  else:\n",
        "    color = 'red'\n",
        "\n",
        "  plt.xlabel(\"{} {:2.0f}% ({})\".format(class_names[predicted_label],\n",
        "                                100*np.max(predictions_array),\n",
        "                                class_names[true_label]),\n",
        "                                color=color)\n",
        "\n",
        "def plot_value_array(i, predictions_array, true_label):\n",
        "  predictions_array, true_label = predictions_array, true_label[i]\n",
        "  plt.grid(False)\n",
        "  plt.xticks(range(10))\n",
        "  plt.yticks([])\n",
        "  thisplot = plt.bar(range(10), predictions_array, color=\"#777777\")\n",
        "  plt.ylim([0, 1])\n",
        "  predicted_label = np.argmax(predictions_array)\n",
        "\n",
        "  thisplot[predicted_label].set_color('red')\n",
        "  thisplot[true_label].set_color('blue')"
      ]
    },
    {
      "cell_type": "markdown",
      "metadata": {
        "id": "d4Ov9OFDMmOD"
      },
      "source": [
        "Let's look at the 0th image, predictions, and prediction array. Correct prediction labels are blue and incorrect prediction labels are red. The number gives the percentage (out of 100) for the predicted label."
      ]
    },
    {
      "cell_type": "code",
      "execution_count": 31,
      "metadata": {
        "id": "HV5jw-5HwSmO"
      },
      "outputs": [
        {
          "data": {
            "image/png": "[encoded data removed]",
            "text/plain": [
              "<Figure size 600x300 with 2 Axes>"
            ]
          },
          "metadata": {},
          "output_type": "display_data"
        }
      ],
      "source": [
        "i = 0\n",
        "plt.figure(figsize=(6,3))\n",
        "plt.subplot(1,2,1)\n",
        "plot_image(i, predictions[i], test_labels, test_images)\n",
        "plt.subplot(1,2,2)\n",
        "plot_value_array(i, predictions[i],  test_labels)\n",
        "plt.show()"
      ]
    },
    {
      "cell_type": "code",
      "execution_count": 32,
      "metadata": {
        "id": "Ko-uzOufSCSe"
      },
      "outputs": [
        {
          "data": {
            "image/png": "[encoded data removed]",
            "text/plain": [
              "<Figure size 600x300 with 2 Axes>"
            ]
          },
          "metadata": {},
          "output_type": "display_data"
        }
      ],
      "source": [
        "i = 12\n",
        "plt.figure(figsize=(6,3))\n",
        "plt.subplot(1,2,1)\n",
        "plot_image(i, predictions[i], test_labels, test_images)\n",
        "plt.subplot(1,2,2)\n",
        "plot_value_array(i, predictions[i],  test_labels)\n",
        "plt.show()"
      ]
    },
    {
      "cell_type": "markdown",
      "metadata": {
        "id": "kgdvGD52CaXR"
      },
      "source": [
        "Let's plot several images with their predictions. Note that the model can be wrong even when very confident."
      ]
    },
    {
      "cell_type": "code",
      "execution_count": 33,
      "metadata": {
        "id": "hQlnbqaw2Qu_"
      },
      "outputs": [
        {
          "data": {
            "image/png": "[encoded data removed]",
            "text/plain": [
              "<Figure size 1200x1000 with 30 Axes>"
            ]
          },
          "metadata": {},
          "output_type": "display_data"
        }
      ],
      "source": [
        "# Plot the first X test images, their predicted labels, and the true labels.\n",
        "# Color correct predictions in blue and incorrect predictions in red.\n",
        "num_rows = 5\n",
        "num_cols = 3\n",
        "num_images = num_rows*num_cols\n",
        "plt.figure(figsize=(2*2*num_cols, 2*num_rows))\n",
        "for i in range(num_images):\n",
        "  plt.subplot(num_rows, 2*num_cols, 2*i+1)\n",
        "  plot_image(i, predictions[i], test_labels, test_images)\n",
        "  plt.subplot(num_rows, 2*num_cols, 2*i+2)\n",
        "  plot_value_array(i, predictions[i], test_labels)\n",
        "plt.tight_layout()\n",
        "plt.show()"
      ]
    },
    {
      "cell_type": "markdown",
      "metadata": {
        "id": "R32zteKHCaXT"
      },
      "source": [
        "Finally, use the trained model to make a prediction about a single image."
      ]
    },
    {
      "cell_type": "code",
      "execution_count": 34,
      "metadata": {
        "id": "yRJ7JU7JCaXT"
      },
      "outputs": [
        {
          "name": "stdout",
          "output_type": "stream",
          "text": [
            "(28, 28)\n"
          ]
        }
      ],
      "source": [
        "# Grab an image from the test dataset.\n",
        "img = test_images[1]\n",
        "\n",
        "print(img.shape)"
      ]
    },
    {
      "cell_type": "markdown",
      "metadata": {
        "id": "vz3bVp21CaXV"
      },
      "source": [
        "`tf.keras` models are optimized to make predictions on a *batch*, or collection, of examples at once. Accordingly, even though you're using a single image, you need to add it to a list:"
      ]
    },
    {
      "cell_type": "code",
      "execution_count": 35,
      "metadata": {
        "id": "lDFh5yF_CaXW"
      },
      "outputs": [
        {
          "name": "stdout",
          "output_type": "stream",
          "text": [
            "(1, 28, 28)\n"
          ]
        }
      ],
      "source": [
        "# Add the image to a batch where it's the only member.\n",
        "img = (np.expand_dims(img,0))\n",
        "\n",
        "print(img.shape)"
      ]
    },
    {
      "cell_type": "markdown",
      "metadata": {
        "id": "EQ5wLTkcCaXY"
      },
      "source": [
        "Now predict the correct label for this image:"
      ]
    },
    {
      "cell_type": "code",
      "execution_count": 36,
      "metadata": {
        "id": "o_rzNSdrCaXY"
      },
      "outputs": [
        {
          "name": "stdout",
          "output_type": "stream",
          "text": [
            "1/1 [==============================] - 0s 17ms/step\n",
            "[[3.6828045e-04 2.8230415e-06 8.5475731e-01 1.4339986e-04 1.2500559e-02\n",
            "  7.3558399e-06 1.3196941e-01 1.3523602e-09 2.5075316e-04 1.2112021e-07]]\n"
          ]
        }
      ],
      "source": [
        "predictions_single = model.predict(img)\n",
        "\n",
        "print(predictions_single)"
      ]
    },
    {
      "cell_type": "code",
      "execution_count": 37,
      "metadata": {
        "id": "6Ai-cpLjO-3A"
      },
      "outputs": [
        {
          "data": {
            "image/png": "[encoded data removed]",
            "text/plain": [
              "<Figure size 640x480 with 1 Axes>"
            ]
          },
          "metadata": {},
          "output_type": "display_data"
        }
      ],
      "source": [
        "plot_value_array(1, predictions_single[0], test_labels)\n",
        "_ = plt.xticks(range(10), class_names, rotation=45)"
      ]
    },
    {
      "cell_type": "markdown",
      "metadata": {
        "id": "cU1Y2OAMCaXb"
      },
      "source": [
        "`model.predict` returns a list of lists—one list for each image in the batch of data. Grab the predictions for our (only) image in the batch:"
      ]
    },
    {
      "cell_type": "code",
      "execution_count": 38,
      "metadata": {
        "id": "2tRmdq_8CaXb"
      },
      "outputs": [
        {
          "data": {
            "text/plain": [
              "2"
            ]
          },
          "execution_count": 38,
          "metadata": {},
          "output_type": "execute_result"
        }
      ],
      "source": [
        "np.argmax(predictions_single[0])"
      ]
    },
    {
      "cell_type": "code",
      "execution_count": null,
      "metadata": {},
      "outputs": [],
      "source": [
        "from tensorflow.keras.optimizers import SGD\n",
        "\n",
        "model = keras.models.Sequential([\n",
        "    keras.layers.Flatten(input_shape=(28, 28)),\n",
        "    keras.layers.Dense(500, activation='relu'),\n",
        "    keras.layers.Dense(500, activation='relu'),\n",
        "    keras.layers.Dense(10, activation='softmax')\n",
        "])\n",
        "\n",
        "model.compile(optimizer=SGD(learning_rate=0.01, momentum=0.0, nesterov=False), \n",
        "              loss='sparse_categorical_crossentropy',\n",
        "              metrics=['accuracy'])\n",
        "\n",
        "history = model.fit(train_images, train_labels, epochs=30, batch_size=32, callbacks=callbacks)"
      ]
    },
    {
      "cell_type": "code",
      "execution_count": 45,
      "metadata": {},
      "outputs": [
        {
          "name": "stdout",
          "output_type": "stream",
          "text": [
            "Collecting keras_tuner\n",
            "  Downloading keras_tuner-1.2.1-py3-none-any.whl (169 kB)\n",
            "     ------------------------------------- 169.6/169.6 kB 83.6 kB/s eta 0:00:00\n",
            "Collecting kt-legacy\n",
            "  Downloading kt_legacy-1.0.4-py3-none-any.whl (9.6 kB)\n",
            "Requirement already satisfied: ipython in c:\\users\\pedro\\anaconda3\\envs\\tf\\lib\\site-packages (from keras_tuner) (8.9.0)\n",
            "Requirement already satisfied: packaging in c:\\users\\pedro\\anaconda3\\envs\\tf\\lib\\site-packages (from keras_tuner) (23.0)\n",
            "Requirement already satisfied: tensorflow>=2.0 in c:\\users\\pedro\\anaconda3\\envs\\tf\\lib\\site-packages (from keras_tuner) (2.11.0)\n",
            "Requirement already satisfied: requests in c:\\users\\pedro\\anaconda3\\envs\\tf\\lib\\site-packages (from keras_tuner) (2.28.2)\n",
            "Requirement already satisfied: tensorflow-intel==2.11.0 in c:\\users\\pedro\\anaconda3\\envs\\tf\\lib\\site-packages (from tensorflow>=2.0->keras_tuner) (2.11.0)\n",
            "Requirement already satisfied: tensorboard<2.12,>=2.11 in c:\\users\\pedro\\anaconda3\\envs\\tf\\lib\\site-packages (from tensorflow-intel==2.11.0->tensorflow>=2.0->keras_tuner) (2.11.2)\n",
            "Requirement already satisfied: protobuf<3.20,>=3.9.2 in c:\\users\\pedro\\anaconda3\\envs\\tf\\lib\\site-packages (from tensorflow-intel==2.11.0->tensorflow>=2.0->keras_tuner) (3.19.6)\n",
            "Requirement already satisfied: six>=1.12.0 in c:\\users\\pedro\\anaconda3\\envs\\tf\\lib\\site-packages (from tensorflow-intel==2.11.0->tensorflow>=2.0->keras_tuner) (1.16.0)\n",
            "Requirement already satisfied: h5py>=2.9.0 in c:\\users\\pedro\\anaconda3\\envs\\tf\\lib\\site-packages (from tensorflow-intel==2.11.0->tensorflow>=2.0->keras_tuner) (3.8.0)\n",
            "Requirement already satisfied: tensorflow-io-gcs-filesystem>=0.23.1 in c:\\users\\pedro\\anaconda3\\envs\\tf\\lib\\site-packages (from tensorflow-intel==2.11.0->tensorflow>=2.0->keras_tuner) (0.30.0)\n",
            "Requirement already satisfied: grpcio<2.0,>=1.24.3 in c:\\users\\pedro\\anaconda3\\envs\\tf\\lib\\site-packages (from tensorflow-intel==2.11.0->tensorflow>=2.0->keras_tuner) (1.51.1)\n",
            "Requirement already satisfied: typing-extensions>=3.6.6 in c:\\users\\pedro\\anaconda3\\envs\\tf\\lib\\site-packages (from tensorflow-intel==2.11.0->tensorflow>=2.0->keras_tuner) (4.4.0)\n",
            "Requirement already satisfied: absl-py>=1.0.0 in c:\\users\\pedro\\anaconda3\\envs\\tf\\lib\\site-packages (from tensorflow-intel==2.11.0->tensorflow>=2.0->keras_tuner) (1.4.0)\n",
            "Requirement already satisfied: keras<2.12,>=2.11.0 in c:\\users\\pedro\\anaconda3\\envs\\tf\\lib\\site-packages (from tensorflow-intel==2.11.0->tensorflow>=2.0->keras_tuner) (2.11.0)\n",
            "Requirement already satisfied: numpy>=1.20 in c:\\users\\pedro\\anaconda3\\envs\\tf\\lib\\site-packages (from tensorflow-intel==2.11.0->tensorflow>=2.0->keras_tuner) (1.24.2)\n",
            "Requirement already satisfied: tensorflow-estimator<2.12,>=2.11.0 in c:\\users\\pedro\\anaconda3\\envs\\tf\\lib\\site-packages (from tensorflow-intel==2.11.0->tensorflow>=2.0->keras_tuner) (2.11.0)\n",
            "Requirement already satisfied: astunparse>=1.6.0 in c:\\users\\pedro\\anaconda3\\envs\\tf\\lib\\site-packages (from tensorflow-intel==2.11.0->tensorflow>=2.0->keras_tuner) (1.6.3)\n",
            "Requirement already satisfied: flatbuffers>=2.0 in c:\\users\\pedro\\anaconda3\\envs\\tf\\lib\\site-packages (from tensorflow-intel==2.11.0->tensorflow>=2.0->keras_tuner) (23.1.21)\n",
            "Requirement already satisfied: wrapt>=1.11.0 in c:\\users\\pedro\\anaconda3\\envs\\tf\\lib\\site-packages (from tensorflow-intel==2.11.0->tensorflow>=2.0->keras_tuner) (1.14.1)\n",
            "Requirement already satisfied: gast<=0.4.0,>=0.2.1 in c:\\users\\pedro\\anaconda3\\envs\\tf\\lib\\site-packages (from tensorflow-intel==2.11.0->tensorflow>=2.0->keras_tuner) (0.4.0)\n",
            "Requirement already satisfied: termcolor>=1.1.0 in c:\\users\\pedro\\anaconda3\\envs\\tf\\lib\\site-packages (from tensorflow-intel==2.11.0->tensorflow>=2.0->keras_tuner) (2.2.0)\n",
            "Requirement already satisfied: google-pasta>=0.1.1 in c:\\users\\pedro\\anaconda3\\envs\\tf\\lib\\site-packages (from tensorflow-intel==2.11.0->tensorflow>=2.0->keras_tuner) (0.2.0)\n",
            "Requirement already satisfied: setuptools in c:\\users\\pedro\\anaconda3\\envs\\tf\\lib\\site-packages (from tensorflow-intel==2.11.0->tensorflow>=2.0->keras_tuner) (65.6.3)\n",
            "Requirement already satisfied: libclang>=13.0.0 in c:\\users\\pedro\\anaconda3\\envs\\tf\\lib\\site-packages (from tensorflow-intel==2.11.0->tensorflow>=2.0->keras_tuner) (15.0.6.1)\n",
            "Requirement already satisfied: opt-einsum>=2.3.2 in c:\\users\\pedro\\anaconda3\\envs\\tf\\lib\\site-packages (from tensorflow-intel==2.11.0->tensorflow>=2.0->keras_tuner) (3.3.0)\n",
            "Requirement already satisfied: colorama in c:\\users\\pedro\\anaconda3\\envs\\tf\\lib\\site-packages (from ipython->keras_tuner) (0.4.6)\n",
            "Requirement already satisfied: prompt-toolkit<3.1.0,>=3.0.30 in c:\\users\\pedro\\anaconda3\\envs\\tf\\lib\\site-packages (from ipython->keras_tuner) (3.0.36)\n",
            "Requirement already satisfied: decorator in c:\\users\\pedro\\anaconda3\\envs\\tf\\lib\\site-packages (from ipython->keras_tuner) (5.1.1)\n",
            "Requirement already satisfied: pickleshare in c:\\users\\pedro\\anaconda3\\envs\\tf\\lib\\site-packages (from ipython->keras_tuner) (0.7.5)\n",
            "Requirement already satisfied: matplotlib-inline in c:\\users\\pedro\\anaconda3\\envs\\tf\\lib\\site-packages (from ipython->keras_tuner) (0.1.6)\n",
            "Requirement already satisfied: backcall in c:\\users\\pedro\\anaconda3\\envs\\tf\\lib\\site-packages (from ipython->keras_tuner) (0.2.0)\n",
            "Requirement already satisfied: stack-data in c:\\users\\pedro\\anaconda3\\envs\\tf\\lib\\site-packages (from ipython->keras_tuner) (0.6.2)\n",
            "Requirement already satisfied: traitlets>=5 in c:\\users\\pedro\\anaconda3\\envs\\tf\\lib\\site-packages (from ipython->keras_tuner) (5.9.0)\n",
            "Requirement already satisfied: pygments>=2.4.0 in c:\\users\\pedro\\anaconda3\\envs\\tf\\lib\\site-packages (from ipython->keras_tuner) (2.14.0)\n",
            "Requirement already satisfied: jedi>=0.16 in c:\\users\\pedro\\anaconda3\\envs\\tf\\lib\\site-packages (from ipython->keras_tuner) (0.18.2)\n",
            "Requirement already satisfied: idna<4,>=2.5 in c:\\users\\pedro\\anaconda3\\envs\\tf\\lib\\site-packages (from requests->keras_tuner) (3.4)\n",
            "Requirement already satisfied: certifi>=2017.4.17 in c:\\users\\pedro\\anaconda3\\envs\\tf\\lib\\site-packages (from requests->keras_tuner) (2022.12.7)\n",
            "Requirement already satisfied: urllib3<1.27,>=1.21.1 in c:\\users\\pedro\\anaconda3\\envs\\tf\\lib\\site-packages (from requests->keras_tuner) (1.26.14)\n",
            "Requirement already satisfied: charset-normalizer<4,>=2 in c:\\users\\pedro\\anaconda3\\envs\\tf\\lib\\site-packages (from requests->keras_tuner) (3.0.1)\n",
            "Requirement already satisfied: parso<0.9.0,>=0.8.0 in c:\\users\\pedro\\anaconda3\\envs\\tf\\lib\\site-packages (from jedi>=0.16->ipython->keras_tuner) (0.8.3)\n",
            "Requirement already satisfied: wcwidth in c:\\users\\pedro\\anaconda3\\envs\\tf\\lib\\site-packages (from prompt-toolkit<3.1.0,>=3.0.30->ipython->keras_tuner) (0.2.6)\n",
            "Requirement already satisfied: executing>=1.2.0 in c:\\users\\pedro\\anaconda3\\envs\\tf\\lib\\site-packages (from stack-data->ipython->keras_tuner) (1.2.0)\n",
            "Requirement already satisfied: asttokens>=2.1.0 in c:\\users\\pedro\\anaconda3\\envs\\tf\\lib\\site-packages (from stack-data->ipython->keras_tuner) (2.2.1)\n",
            "Requirement already satisfied: pure-eval in c:\\users\\pedro\\anaconda3\\envs\\tf\\lib\\site-packages (from stack-data->ipython->keras_tuner) (0.2.2)\n",
            "Requirement already satisfied: wheel<1.0,>=0.23.0 in c:\\users\\pedro\\anaconda3\\envs\\tf\\lib\\site-packages (from astunparse>=1.6.0->tensorflow-intel==2.11.0->tensorflow>=2.0->keras_tuner) (0.37.1)\n",
            "Requirement already satisfied: markdown>=2.6.8 in c:\\users\\pedro\\anaconda3\\envs\\tf\\lib\\site-packages (from tensorboard<2.12,>=2.11->tensorflow-intel==2.11.0->tensorflow>=2.0->keras_tuner) (3.4.1)\n",
            "Requirement already satisfied: tensorboard-plugin-wit>=1.6.0 in c:\\users\\pedro\\anaconda3\\envs\\tf\\lib\\site-packages (from tensorboard<2.12,>=2.11->tensorflow-intel==2.11.0->tensorflow>=2.0->keras_tuner) (1.8.1)\n",
            "Requirement already satisfied: google-auth<3,>=1.6.3 in c:\\users\\pedro\\anaconda3\\envs\\tf\\lib\\site-packages (from tensorboard<2.12,>=2.11->tensorflow-intel==2.11.0->tensorflow>=2.0->keras_tuner) (2.16.0)\n",
            "Requirement already satisfied: tensorboard-data-server<0.7.0,>=0.6.0 in c:\\users\\pedro\\anaconda3\\envs\\tf\\lib\\site-packages (from tensorboard<2.12,>=2.11->tensorflow-intel==2.11.0->tensorflow>=2.0->keras_tuner) (0.6.1)\n",
            "Requirement already satisfied: google-auth-oauthlib<0.5,>=0.4.1 in c:\\users\\pedro\\anaconda3\\envs\\tf\\lib\\site-packages (from tensorboard<2.12,>=2.11->tensorflow-intel==2.11.0->tensorflow>=2.0->keras_tuner) (0.4.6)\n",
            "Requirement already satisfied: werkzeug>=1.0.1 in c:\\users\\pedro\\anaconda3\\envs\\tf\\lib\\site-packages (from tensorboard<2.12,>=2.11->tensorflow-intel==2.11.0->tensorflow>=2.0->keras_tuner) (2.2.2)\n",
            "Requirement already satisfied: pyasn1-modules>=0.2.1 in c:\\users\\pedro\\anaconda3\\envs\\tf\\lib\\site-packages (from google-auth<3,>=1.6.3->tensorboard<2.12,>=2.11->tensorflow-intel==2.11.0->tensorflow>=2.0->keras_tuner) (0.2.8)\n",
            "Requirement already satisfied: cachetools<6.0,>=2.0.0 in c:\\users\\pedro\\anaconda3\\envs\\tf\\lib\\site-packages (from google-auth<3,>=1.6.3->tensorboard<2.12,>=2.11->tensorflow-intel==2.11.0->tensorflow>=2.0->keras_tuner) (5.3.0)\n",
            "Requirement already satisfied: rsa<5,>=3.1.4 in c:\\users\\pedro\\anaconda3\\envs\\tf\\lib\\site-packages (from google-auth<3,>=1.6.3->tensorboard<2.12,>=2.11->tensorflow-intel==2.11.0->tensorflow>=2.0->keras_tuner) (4.9)\n",
            "Requirement already satisfied: requests-oauthlib>=0.7.0 in c:\\users\\pedro\\anaconda3\\envs\\tf\\lib\\site-packages (from google-auth-oauthlib<0.5,>=0.4.1->tensorboard<2.12,>=2.11->tensorflow-intel==2.11.0->tensorflow>=2.0->keras_tuner) (1.3.1)\n",
            "Requirement already satisfied: importlib-metadata>=4.4 in c:\\users\\pedro\\anaconda3\\envs\\tf\\lib\\site-packages (from markdown>=2.6.8->tensorboard<2.12,>=2.11->tensorflow-intel==2.11.0->tensorflow>=2.0->keras_tuner) (6.0.0)\n",
            "Requirement already satisfied: MarkupSafe>=2.1.1 in c:\\users\\pedro\\anaconda3\\envs\\tf\\lib\\site-packages (from werkzeug>=1.0.1->tensorboard<2.12,>=2.11->tensorflow-intel==2.11.0->tensorflow>=2.0->keras_tuner) (2.1.2)\n",
            "Requirement already satisfied: zipp>=0.5 in c:\\users\\pedro\\anaconda3\\envs\\tf\\lib\\site-packages (from importlib-metadata>=4.4->markdown>=2.6.8->tensorboard<2.12,>=2.11->tensorflow-intel==2.11.0->tensorflow>=2.0->keras_tuner) (3.12.1)\n",
            "Requirement already satisfied: pyasn1<0.5.0,>=0.4.6 in c:\\users\\pedro\\anaconda3\\envs\\tf\\lib\\site-packages (from pyasn1-modules>=0.2.1->google-auth<3,>=1.6.3->tensorboard<2.12,>=2.11->tensorflow-intel==2.11.0->tensorflow>=2.0->keras_tuner) (0.4.8)\n",
            "Requirement already satisfied: oauthlib>=3.0.0 in c:\\users\\pedro\\anaconda3\\envs\\tf\\lib\\site-packages (from requests-oauthlib>=0.7.0->google-auth-oauthlib<0.5,>=0.4.1->tensorboard<2.12,>=2.11->tensorflow-intel==2.11.0->tensorflow>=2.0->keras_tuner) (3.2.2)\n",
            "Installing collected packages: kt-legacy, keras_tuner\n",
            "Successfully installed keras_tuner-1.2.1 kt-legacy-1.0.4\n",
            "Note: you may need to restart the kernel to use updated packages.\n"
          ]
        }
      ],
      "source": [
        "pip install keras_tuner"
      ]
    },
    {
      "cell_type": "code",
      "execution_count": 46,
      "metadata": {},
      "outputs": [
        {
          "name": "stderr",
          "output_type": "stream",
          "text": [
            "C:\\Users\\pedro\\AppData\\Local\\Temp\\ipykernel_18272\\3254540681.py:2: DeprecationWarning: `import kerastuner` is deprecated, please use `import keras_tuner`.\n",
            "  from kerastuner.tuners import RandomSearch\n"
          ]
        }
      ],
      "source": [
        "#use keras tuner to find the best possible model\n",
        "from kerastuner.tuners import RandomSearch\n",
        "from tensorflow.keras.optimizers import Adam\n",
        "from tensorflow.keras.layers import Dense, Dropout, Activation, Flatten\n",
        "from tensorflow.keras.layers import Conv2D, MaxPooling2D\n",
        "from tensorflow.keras.models import Sequential\n",
        "\n",
        " \n"
      ]
    },
    {
      "cell_type": "code",
      "execution_count": 48,
      "metadata": {},
      "outputs": [
        {
          "name": "stdout",
          "output_type": "stream",
          "text": [
            "Trial 5 Complete [00h 04m 06s]\n",
            "val_accuracy: 0.8881110946337382\n",
            "\n",
            "Best val_accuracy So Far: 0.8896666765213013\n",
            "Total elapsed time: 00h 18m 01s\n",
            "INFO:tensorflow:Oracle triggered exit\n",
            "Results summary\n",
            "Results in project\\untitled_project\n",
            "Showing 10 best trials\n",
            "<keras_tuner.engine.objective.Objective object at 0x0000018E0E907130>\n",
            "Trial summary\n",
            "Hyperparameters:\n",
            "num_layers: 2\n",
            "units_0: 400\n",
            "units_1: 500\n",
            "learning_rate: 0.001\n",
            "units_2: 300\n",
            "Score: 0.8896666765213013\n",
            "Trial summary\n",
            "Hyperparameters:\n",
            "num_layers: 3\n",
            "units_0: 400\n",
            "units_1: 400\n",
            "learning_rate: 0.001\n",
            "units_2: 300\n",
            "Score: 0.8881110946337382\n",
            "Trial summary\n",
            "Hyperparameters:\n",
            "num_layers: 2\n",
            "units_0: 300\n",
            "units_1: 400\n",
            "learning_rate: 0.01\n",
            "units_2: 400\n",
            "Score: 0.8581666549046835\n",
            "Trial summary\n",
            "Hyperparameters:\n",
            "num_layers: 2\n",
            "units_0: 500\n",
            "units_1: 500\n",
            "learning_rate: 0.01\n",
            "units_2: 400\n",
            "Score: 0.8579444487889608\n",
            "Trial summary\n",
            "Hyperparameters:\n",
            "num_layers: 3\n",
            "units_0: 400\n",
            "units_1: 400\n",
            "learning_rate: 0.01\n",
            "units_2: 300\n",
            "Score: 0.8491388956705729\n"
          ]
        }
      ],
      "source": [
        "#use keras tuner to find the best possible model for mnist dataset using 3 layers with 300 neurons and utilizing maximum power in this computer\n",
        "def build_model(hp):\n",
        "    model = Sequential()\n",
        "    model.add(Flatten(input_shape=(28, 28)))\n",
        "    for i in range(hp.Int('num_layers', 2, 3)):\n",
        "        model.add(Dense(units=hp.Int('units_' + str(i),\n",
        "                                            min_value=300,\n",
        "                                            max_value=500,\n",
        "                                            step=100),\n",
        "                               activation='relu'))\n",
        "    model.add(Dense(10, activation='softmax'))\n",
        "    model.compile(optimizer=Adam(hp.Choice('learning_rate', values=[1e-2, 1e-3])),\n",
        "                  loss='sparse_categorical_crossentropy',\n",
        "                  metrics=['accuracy'])\n",
        "    return model\n",
        "\n",
        "tuner = RandomSearch(\n",
        "    build_model,\n",
        "    objective='val_accuracy',\n",
        "    max_trials=5,\n",
        "    executions_per_trial=3,\n",
        "    directory='project',\n",
        "\n",
        ")\n",
        "\n",
        "tuner.search(train_images, train_labels, epochs=10, validation_split=0.2)\n",
        "\n",
        "tuner.results_summary()\n",
        "\n",
        "\n",
        "\n"
      ]
    },
    {
      "cell_type": "markdown",
      "metadata": {},
      "source": []
    },
    {
      "cell_type": "code",
      "execution_count": 50,
      "metadata": {},
      "outputs": [
        {
          "name": "stdout",
          "output_type": "stream",
          "text": [
            "1875/1875 [==============================] - 3s 2ms/step - loss: 0.2278 - accuracy: 0.9174\n",
            "313/313 [==============================] - 1s 2ms/step - loss: 0.3639 - accuracy: 0.8831\n"
          ]
        },
        {
          "data": {
            "text/plain": [
              "[0.3638743460178375, 0.8830999732017517]"
            ]
          },
          "execution_count": 50,
          "metadata": {},
          "output_type": "execute_result"
        }
      ],
      "source": [
        "best_model = tuner.get_best_models(num_models=1)[0]\n",
        "best_model.evaluate(train_images, train_labels)\n",
        "best_model.evaluate(test_images, test_labels)\n"
      ]
    },
    {
      "cell_type": "code",
      "execution_count": 51,
      "metadata": {},
      "outputs": [
        {
          "name": "stdout",
          "output_type": "stream",
          "text": [
            "1875/1875 [==============================] - 2s 1ms/step - loss: 0.5336 - accuracy: 0.8228\n",
            "313/313 [==============================] - 0s 988us/step - loss: 0.5584 - accuracy: 0.8090\n"
          ]
        },
        {
          "data": {
            "text/plain": [
              "[0.5584456920623779, 0.8090000152587891]"
            ]
          },
          "execution_count": 51,
          "metadata": {},
          "output_type": "execute_result"
        }
      ],
      "source": [
        "model.evaluate(train_images, train_labels)\n",
        "model.evaluate(test_images, test_labels)\n",
        "\n",
        "\n",
        "\n"
      ]
    },
    {
      "cell_type": "code",
      "execution_count": 49,
      "metadata": {},
      "outputs": [],
      "source": [
        "#Use Keras Tuner to automatically get the best possible net using three layers and 200 neurons\n",
        "def build_model(hp):\n",
        "    model = Sequential()\n",
        "    model.add(Flatten(input_shape=(28, 28)))\n",
        "    for i in range(hp.Int('num_layers', 2, 3)):\n",
        "        model.add(Dense(units=hp.Int('units_' + str(i),\n",
        "                                            min_value=200,\n",
        "                                            max_value=300,\n",
        "                                            step=100),\n",
        "                               activation='relu'))\n",
        "    model.add(Dense(10, activation='softmax'))\n",
        "    model.compile(optimizer=Adam(hp.Choice('learning_rate', values=[1e-2, 1e-3])),\n",
        "                  loss='sparse_categorical_crossentropy',\n",
        "                  metrics=['accuracy'])\n",
        "    return model\n",
        "\n",
        "tuner = RandomSearch(\n",
        "    build_model,\n",
        "    objective='val_accuracy',\n",
        "    max_trials=5,\n",
        "\n",
        "    executions_per_trial=3,\n",
        "    directory='project',\n",
        "\n",
        ")\n",
        "\n",
        "tuner.search(train_images, train_labels, epochs=10, validation_split=0.2)"
      ]
    },
    {
      "cell_type": "code",
      "execution_count": null,
      "metadata": {},
      "outputs": [],
      "source": [
        "def build_model(hp):\n",
        "    model = Sequential()\n",
        "    model.add(Flatten(input_shape=(28, 28)))\n",
        "    model.add(Dense(500, activation='relu'))\n",
        "    model.add(Dense(500, activation='relu'))\n",
        "    model.add(Dense(10, activation='softmax'))\n",
        "    model.compile(optimizer=Adam(learning_rate=0.01), \n",
        "              loss='sparse_categorical_crossentropy',\n",
        "              metrics=['accuracy'])\n",
        "    return model\n",
        "\n",
        "tuner = RandomSearch(\n",
        "    build_model,\n",
        "    objective='val_accuracy',\n",
        "    max_trials=5,\n",
        "    executions_per_trial=3,\n",
        "    directory='project',\n",
        "    project_name='Mnist Fashion')\n",
        "\n",
        "tuner.search(train_images, train_labels, epochs=30, validation_split=0.2)\n",
        "\n",
        "tuner.results_summary()\n"
      ]
    },
    {
      "cell_type": "markdown",
      "metadata": {
        "id": "YFc2HbEVCaXd"
      },
      "source": [
        "And the model predicts a label as expected."
      ]
    },
    {
      "cell_type": "markdown",
      "metadata": {},
      "source": []
    },
    {
      "cell_type": "markdown",
      "metadata": {},
      "source": []
    },
    {
      "cell_type": "markdown",
      "metadata": {},
      "source": []
    },
    {
      "cell_type": "markdown",
      "metadata": {},
      "source": []
    },
    {
      "cell_type": "markdown",
      "metadata": {},
      "source": []
    },
    {
      "cell_type": "markdown",
      "metadata": {},
      "source": []
    },
    {
      "cell_type": "markdown",
      "metadata": {},
      "source": []
    },
    {
      "cell_type": "markdown",
      "metadata": {},
      "source": []
    },
    {
      "cell_type": "markdown",
      "metadata": {},
      "source": []
    },
    {
      "cell_type": "markdown",
      "metadata": {},
      "source": []
    },
    {
      "cell_type": "markdown",
      "metadata": {},
      "source": []
    },
    {
      "cell_type": "markdown",
      "metadata": {},
      "source": []
    },
    {
      "cell_type": "markdown",
      "metadata": {},
      "source": []
    },
    {
      "cell_type": "markdown",
      "metadata": {},
      "source": []
    },
    {
      "cell_type": "markdown",
      "metadata": {},
      "source": []
    },
    {
      "cell_type": "markdown",
      "metadata": {},
      "source": []
    }
  ],
  "metadata": {
    "accelerator": "GPU",
    "colab": {
      "private_outputs": true,
      "provenance": []
    },
    "kernelspec": {
      "display_name": "tf",
      "language": "python",
      "name": "python3"
    },
    "language_info": {
      "codemirror_mode": {
        "name": "ipython",
        "version": 3
      },
      "file_extension": ".py",
      "mimetype": "text/x-python",
      "name": "python",
      "nbconvert_exporter": "python",
      "pygments_lexer": "ipython3",
      "version": "3.8.0"
    },
    "vscode": {
      "interpreter": {
        "hash": "f955d8c6e137d82557673c1af8b287ea837227932fd50ff60964f099d496460b"
      }
    }
  },
  "nbformat": 4,
  "nbformat_minor": 0
}
